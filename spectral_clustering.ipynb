{
 "cells": [
  {
   "cell_type": "code",
   "execution_count": 1,
   "metadata": {},
   "outputs": [
    {
     "data": {
      "text/plain": [
       "(13687, 14)"
      ]
     },
     "execution_count": 1,
     "metadata": {},
     "output_type": "execute_result"
    }
   ],
   "source": [
    "import pandas as pd\n",
    "import matplotlib.pyplot as plt\n",
    "from sklearn.cluster import SpectralClustering\n",
    "from sklearn.preprocessing import StandardScaler\n",
    "from sklearn.metrics import silhouette_score, calinski_harabasz_score, davies_bouldin_score\n",
    "from sklearn.model_selection import train_test_split\n",
    "from collections import defaultdict\n",
    "\n",
    "data = pd.read_csv('spotify_data/processed_data.csv')\n",
    "\n",
    "train = data.drop(['genres'], axis=1)\n",
    "\n",
    "genres = data['genres']\n",
    "\n",
    "X_train, X_test = train_test_split(train, test_size=0.9) \n",
    "X_train.shape"
   ]
  },
  {
   "cell_type": "code",
   "execution_count": null,
   "metadata": {},
   "outputs": [
    {
     "name": "stdout",
     "output_type": "stream",
     "text": [
      "5: 0.21546437341580482, 537.3524118102443, 1.0568612896287426\n",
      "6: 0.19599397759941717, 457.9081358866317, 1.4839040602243034\n",
      "7: 0.14339566403035078, 383.1988279041836, 1.3766565702206228\n",
      "8: 0.13788417283838714, 449.75146727572917, 1.4460669155184445\n",
      "9: 0.14230796301211146, 475.24552295915134, 1.440507401769596\n",
      "10: 0.14037629196970805, 422.0570931962598, 1.4542708569475498\n",
      "11: 0.14005448414987673, 423.54150412805143, 1.4462806684736387\n",
      "12: 0.13465466648754443, 377.56158148509365, 1.4131352507667816\n",
      "13: 0.13627492303730293, 460.11110959345535, 1.5713985657707497\n",
      "14: 0.13120249113247798, 420.32713294539604, 1.5589737870381868\n",
      "15: 0.13064959697857068, 389.1041779799154, 1.5628233978721355\n",
      "16: 0.12049182586275259, 364.15823002534876, 1.5717501295644951\n",
      "17: 0.1226092787067698, 354.7355738250328, 1.5576330638765306\n",
      "18: 0.1200509784650904, 353.47262625070493, 1.487642246604035\n"
     ]
    }
   ],
   "source": [
    "sc_scaler = StandardScaler()\n",
    "sc_scaler.fit(train)\n",
    "train_scale = sc_scaler.transform(X_train)\n",
    "\n",
    "s_scores = []\n",
    "ch_scores = []\n",
    "db_scores = []\n",
    "\n",
    "for i in range(5, 20):\n",
    "    model = SpectralClustering(assign_labels='discretize', n_clusters=i, random_state=0)\n",
    "    y_pred = model.fit_predict(train_scale)\n",
    "    s_scores.append(silhouette_score(train_scale, y_pred))\n",
    "    ch_scores.append(calinski_harabasz_score(train_scale, y_pred))\n",
    "    db_scores.append(davies_bouldin_score(train_scale, y_pred))\n",
    "    print(f'{i}: {s_scores[-1]}, {ch_scores[-1]}, {db_scores[-1]}')"
   ]
  }
 ],
 "metadata": {
  "kernelspec": {
   "display_name": "Python 3",
   "language": "python",
   "name": "python3"
  },
  "language_info": {
   "codemirror_mode": {
    "name": "ipython",
    "version": 3
   },
   "file_extension": ".py",
   "mimetype": "text/x-python",
   "name": "python",
   "nbconvert_exporter": "python",
   "pygments_lexer": "ipython3",
   "version": "3.8.3"
  }
 },
 "nbformat": 4,
 "nbformat_minor": 4
}
