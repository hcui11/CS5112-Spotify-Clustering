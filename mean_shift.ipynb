{
 "cells": [
  {
   "cell_type": "code",
   "execution_count": 1,
   "metadata": {},
   "outputs": [
    {
     "data": {
      "text/plain": [
       "(13687, 14)"
      ]
     },
     "execution_count": 1,
     "metadata": {},
     "output_type": "execute_result"
    }
   ],
   "source": [
    "import pandas as pd\n",
    "import matplotlib.pyplot as plt\n",
    "from sklearn.cluster import MeanShift\n",
    "from sklearn.preprocessing import StandardScaler\n",
    "from sklearn.metrics import silhouette_score, calinski_harabasz_score, davies_bouldin_score\n",
    "from sklearn.model_selection import train_test_split\n",
    "from collections import defaultdict\n",
    "\n",
    "data = pd.read_csv('spotify_data/processed_data.csv')\n",
    "\n",
    "train = data.drop(['genres', 'name'], axis=1)\n",
    "\n",
    "genres = data['genres']\n",
    "\n",
    "X_train, X_test = train_test_split(train, test_size=0.9) \n",
    "X_train.shape"
   ]
  },
  {
   "cell_type": "code",
   "execution_count": 2,
   "metadata": {},
   "outputs": [
    {
     "name": "stdout",
     "output_type": "stream",
     "text": [
      "0.4196253570512857, 150.15476528340875, 1.1072301350054896\n"
     ]
    }
   ],
   "source": [
    "scaler = StandardScaler()\n",
    "scaler.fit(train)\n",
    "train_scale = scaler.transform(X_train)\n",
    "\n",
    "s_scores = []\n",
    "ch_scores = []\n",
    "db_scores = []\n",
    "\n",
    "model = MeanShift()\n",
    "y_pred = model.fit_predict(train_scale)\n",
    "s_scores.append(silhouette_score(train_scale, y_pred))\n",
    "ch_scores.append(calinski_harabasz_score(train_scale, y_pred))\n",
    "db_scores.append(davies_bouldin_score(train_scale, y_pred))\n",
    "print(f'{s_scores[-1]}, {ch_scores[-1]}, {db_scores[-1]}')"
   ]
  },
  {
   "cell_type": "code",
   "execution_count": 4,
   "metadata": {},
   "outputs": [
    {
     "name": "stdout",
     "output_type": "stream",
     "text": [
      "Cluster 0 Top Features:\n",
      "\texplicit\n",
      "\tspeechiness\n",
      "\tinstrumentalness\n",
      "\tvalence\n",
      "\tloudness\n",
      "Cluster 1 Top Features:\n",
      "\tspeechiness\n",
      "\tduration_ms\n",
      "\tloudness\n",
      "\tpopularity\n",
      "\ttempo\n",
      "Cluster 2 Top Features:\n",
      "\tspeechiness\n",
      "\tloudness\n",
      "\tvalence\n",
      "\tinstrumentalness\n",
      "\tdanceability\n",
      "Cluster 3 Top Features:\n",
      "\tduration_ms\n",
      "\tloudness\n",
      "\tdanceability\n",
      "\tinstrumentalness\n",
      "\tvalence\n",
      "Cluster 4 Top Features:\n",
      "\tduration_ms\n",
      "\tloudness\n",
      "\tinstrumentalness\n",
      "\tdanceability\n",
      "\tenergy\n"
     ]
    }
   ],
   "source": [
    "import numpy as np\n",
    "\n",
    "model = MeanShift()\n",
    "model.fit_predict(train_scale)\n",
    "\n",
    "x_avg = train_scale.mean(axis=0)\n",
    "dists = np.absolute(x_avg - model.cluster_centers_)\n",
    "indices = np.argsort(dists, axis=1)[:,-5:]\n",
    "\n",
    "features = train.columns\n",
    "\n",
    "for cluster in range(model.cluster_centers_.shape[0]):\n",
    "    print(f'Cluster {cluster} Top Features:')\n",
    "    for i in range(4, -1, -1):\n",
    "        print(f'\\t{features[indices[cluster, i]]}')"
   ]
  },
  {
   "cell_type": "code",
   "execution_count": null,
   "metadata": {},
   "outputs": [],
   "source": []
  }
 ],
 "metadata": {
  "kernelspec": {
   "display_name": "Python 3",
   "language": "python",
   "name": "python3"
  },
  "language_info": {
   "codemirror_mode": {
    "name": "ipython",
    "version": 3
   },
   "file_extension": ".py",
   "mimetype": "text/x-python",
   "name": "python",
   "nbconvert_exporter": "python",
   "pygments_lexer": "ipython3",
   "version": "3.8.3"
  }
 },
 "nbformat": 4,
 "nbformat_minor": 4
}
