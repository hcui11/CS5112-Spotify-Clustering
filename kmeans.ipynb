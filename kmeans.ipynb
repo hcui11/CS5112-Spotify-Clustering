{
 "cells": [
  {
   "cell_type": "code",
   "execution_count": 1,
   "metadata": {},
   "outputs": [
    {
     "data": {
      "text/plain": [
       "(13687, 14)"
      ]
     },
     "execution_count": 1,
     "metadata": {},
     "output_type": "execute_result"
    }
   ],
   "source": [
    "import pandas as pd\n",
    "import matplotlib.pyplot as plt\n",
    "from sklearn.cluster import KMeans\n",
    "from sklearn.preprocessing import StandardScaler\n",
    "from sklearn.metrics import silhouette_score, calinski_harabasz_score, davies_bouldin_score\n",
    "from sklearn.model_selection import train_test_split\n",
    "from collections import defaultdict\n",
    "\n",
    "data = pd.read_csv('spotify_data/processed_data.csv')\n",
    "\n",
    "train = data.drop(['genres', 'name'], axis=1)\n",
    "\n",
    "genres = data['genres']\n",
    "\n",
    "X_train, X_test = train_test_split(train, test_size=0.9) \n",
    "X_train.shape"
   ]
  },
  {
   "cell_type": "code",
   "execution_count": 2,
   "metadata": {},
   "outputs": [
    {
     "name": "stdout",
     "output_type": "stream",
     "text": [
      "5: 0.13929231042802548, 1994.2129043685968, 2.042748626262003\n",
      "6: 0.14297770877131452, 1825.6740196123058, 1.918571977282763\n",
      "7: 0.13897132136739762, 1703.733380462285, 1.9509369621380321\n",
      "8: 0.14195720884295748, 1601.832937157476, 1.8665059840737706\n",
      "9: 0.12861082409339342, 1514.8060972363178, 1.89446027926578\n",
      "10: 0.12998288828295182, 1446.6474442632584, 1.8244079873908663\n",
      "11: 0.11982373752571625, 1373.5928506088965, 1.8160955950920281\n",
      "12: 0.11341584177031251, 1308.231966221581, 1.8134269997924102\n",
      "13: 0.11576718454447224, 1249.9826382509953, 1.8063126232955686\n",
      "14: 0.11155051561967326, 1208.2797222682013, 1.8793944353518606\n",
      "15: 0.1189408296707019, 1157.2818408335554, 1.9130272682201226\n",
      "16: 0.11400335295952382, 1122.370870515229, 1.8095161691578163\n",
      "17: 0.11572038092134454, 1080.1319635844095, 1.936831179295387\n",
      "18: 0.11437651685623074, 1044.1218633746228, 1.813128380938959\n",
      "19: 0.11384817640733885, 1017.5304814425908, 1.9020427442804497\n"
     ]
    }
   ],
   "source": [
    "scaler = StandardScaler()\n",
    "scaler.fit(train)\n",
    "train_scale = scaler.transform(X_train)\n",
    "\n",
    "s_scores = []\n",
    "ch_scores = []\n",
    "db_scores = []\n",
    "\n",
    "for i in range(5, 20):\n",
    "    model = KMeans(n_clusters=i)\n",
    "    y_pred = model.fit_predict(train_scale)\n",
    "    s_scores.append(silhouette_score(train_scale, y_pred))\n",
    "    ch_scores.append(calinski_harabasz_score(train_scale, y_pred))\n",
    "    db_scores.append(davies_bouldin_score(train_scale, y_pred))\n",
    "    print(f'{i}: {s_scores[-1]}, {ch_scores[-1]}, {db_scores[-1]}')"
   ]
  },
  {
   "cell_type": "code",
   "execution_count": 10,
   "metadata": {},
   "outputs": [
    {
     "name": "stdout",
     "output_type": "stream",
     "text": [
      "Cluster 0 Top Features:\n",
      "\tliveness\n",
      "\tenergy\n",
      "\tdanceability\n",
      "\texplicit\n",
      "\tduration_ms\n",
      "Cluster 1 Top Features:\n",
      "\tinstrumentalness\n",
      "\tloudness\n",
      "\tenergy\n",
      "\tacousticness\n",
      "\tpopularity\n",
      "Cluster 2 Top Features:\n",
      "\texplicit\n",
      "\tspeechiness\n",
      "\tpopularity\n",
      "\tdanceability\n",
      "\tacousticness\n",
      "Cluster 3 Top Features:\n",
      "\tacousticness\n",
      "\tenergy\n",
      "\tmode\n",
      "\tloudness\n",
      "\tpopularity\n",
      "Cluster 4 Top Features:\n",
      "\tacousticness\n",
      "\tenergy\n",
      "\tpopularity\n",
      "\tloudness\n",
      "\tduration_ms\n",
      "Cluster 5 Top Features:\n",
      "\tmode\n",
      "\tacousticness\n",
      "\tenergy\n",
      "\tloudness\n",
      "\tpopularity\n"
     ]
    }
   ],
   "source": [
    "import numpy as np\n",
    "\n",
    "model = KMeans(n_clusters=6)\n",
    "model.fit_predict(train_scale)\n",
    "\n",
    "x_avg = train_scale.mean(axis=0)\n",
    "dists = np.absolute(x_avg - model.cluster_centers_)\n",
    "indices = np.argsort(dists, axis=1)[:,-5:]\n",
    "\n",
    "features = train.columns\n",
    "\n",
    "for cluster in range(6):\n",
    "    print(f'Cluster {cluster} Top Features:')\n",
    "    for i in range(4, -1, -1):\n",
    "        print(f'\\t{features[indices[cluster, i]]}')"
   ]
  },
  {
   "cell_type": "code",
   "execution_count": null,
   "metadata": {},
   "outputs": [],
   "source": []
  }
 ],
 "metadata": {
  "kernelspec": {
   "display_name": "Python 3",
   "language": "python",
   "name": "python3"
  },
  "language_info": {
   "codemirror_mode": {
    "name": "ipython",
    "version": 3
   },
   "file_extension": ".py",
   "mimetype": "text/x-python",
   "name": "python",
   "nbconvert_exporter": "python",
   "pygments_lexer": "ipython3",
   "version": "3.8.3"
  }
 },
 "nbformat": 4,
 "nbformat_minor": 4
}
