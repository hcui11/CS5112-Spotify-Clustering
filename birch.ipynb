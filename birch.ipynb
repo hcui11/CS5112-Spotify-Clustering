{
 "cells": [
  {
   "cell_type": "code",
   "execution_count": 1,
   "metadata": {},
   "outputs": [
    {
     "data": {
      "text/plain": [
       "(13687, 14)"
      ]
     },
     "execution_count": 1,
     "metadata": {},
     "output_type": "execute_result"
    }
   ],
   "source": [
    "import pandas as pd\n",
    "import matplotlib.pyplot as plt\n",
    "from sklearn.cluster import Birch\n",
    "from sklearn.preprocessing import StandardScaler\n",
    "from sklearn.metrics import silhouette_score, calinski_harabasz_score, davies_bouldin_score\n",
    "from sklearn.model_selection import train_test_split\n",
    "from collections import defaultdict\n",
    "\n",
    "data = pd.read_csv('spotify_data/processed_data.csv')\n",
    "\n",
    "train = data.drop(['genres', 'name'], axis=1)\n",
    "\n",
    "genres = data['genres']\n",
    "\n",
    "X_train, X_test = train_test_split(train, test_size=0.9) \n",
    "X_train.shape"
   ]
  },
  {
   "cell_type": "code",
   "execution_count": 2,
   "metadata": {},
   "outputs": [
    {
     "name": "stdout",
     "output_type": "stream",
     "text": [
      "5: 0.13837781737663082, 1724.142711159155, 2.0012161440764187\n",
      "6: 0.14311653338591537, 1533.3803140577327, 1.82483426689508\n",
      "7: 0.1157188242792915, 1415.6455085513098, 1.9879730667353717\n",
      "8: 0.11522478158597331, 1316.424564130488, 1.9185812183032724\n",
      "9: 0.11482077405231708, 1245.96171713648, 2.004442138850419\n",
      "10: 0.10448131472674575, 1175.354501011213, 2.0880257323054088\n",
      "11: 0.10631319168657377, 1113.8427648503211, 2.004987029240566\n",
      "12: 0.09630510148010726, 1062.8504830989991, 1.9822986392631188\n",
      "13: 0.07867388266286457, 1019.5749015640052, 2.07782265140089\n",
      "14: 0.0793950395902524, 977.6248821587761, 2.073382029698385\n",
      "15: 0.07633456636223099, 940.9498019972029, 2.138958728561066\n",
      "16: 0.06970637300244947, 906.7052919877242, 2.081112406434407\n",
      "17: 0.06997503841410517, 877.5608106013044, 2.053532814429695\n",
      "18: 0.0694089807883457, 850.0248259937155, 2.010648810583539\n",
      "19: 0.06982800409071793, 824.0710332567592, 1.97992162354793\n"
     ]
    }
   ],
   "source": [
    "scaler = StandardScaler()\n",
    "scaler.fit(train)\n",
    "train_scale = scaler.transform(X_train)\n",
    "\n",
    "s_scores = []\n",
    "ch_scores = []\n",
    "db_scores = []\n",
    "\n",
    "for i in range(5, 20):\n",
    "    model = Birch(n_clusters=i)\n",
    "    y_pred = model.fit_predict(train_scale)\n",
    "    s_scores.append(silhouette_score(train_scale, y_pred))\n",
    "    ch_scores.append(calinski_harabasz_score(train_scale, y_pred))\n",
    "    db_scores.append(davies_bouldin_score(train_scale, y_pred))\n",
    "    print(f'{i}: {s_scores[-1]}, {ch_scores[-1]}, {db_scores[-1]}')"
   ]
  },
  {
   "cell_type": "code",
   "execution_count": null,
   "metadata": {},
   "outputs": [],
   "source": []
  }
 ],
 "metadata": {
  "kernelspec": {
   "display_name": "Python 3",
   "language": "python",
   "name": "python3"
  },
  "language_info": {
   "codemirror_mode": {
    "name": "ipython",
    "version": 3
   },
   "file_extension": ".py",
   "mimetype": "text/x-python",
   "name": "python",
   "nbconvert_exporter": "python",
   "pygments_lexer": "ipython3",
   "version": "3.8.3"
  }
 },
 "nbformat": 4,
 "nbformat_minor": 4
}
