{
 "cells": [
  {
   "cell_type": "code",
   "execution_count": 1,
   "metadata": {},
   "outputs": [],
   "source": [
    "import pandas as pd\n",
    "import numpy as np\n",
    "from sklearn.feature_extraction.text import CountVectorizer\n",
    "from ast import literal_eval\n",
    "\n",
    "data = pd.read_csv('spotify_data/data.csv')\n",
    "data['artists'] = data['artists'].apply(literal_eval)\n",
    "data_w_genres = pd.read_csv('spotify_data/data_w_genres.csv')"
   ]
  },
  {
   "cell_type": "code",
   "execution_count": 2,
   "metadata": {},
   "outputs": [
    {
     "name": "stdout",
     "output_type": "stream",
     "text": [
      "42\n",
      "{'romantic', 'rap', 'classical', 'folk', 'psychedelic', 'modern', 'bop', 'soft', 'vocal', 'hard', 'rock', 'roots', 'grunge', 'country', 'indie', 'adult standards', 'classic', 'wave', 'swing', 'southern', 'lounge', 'tango', 'soul', 'contemporary', 'jazz', 'metal', 'bebop', 'singer songwriter', 'pop', 'mellow gold', 'cool', 'romantic era', 'hip hop', 'funk', 'art', 'blues', 'punk', 'alternative', 'dance', 'latin', 'traditional', 'album'}\n"
     ]
    }
   ],
   "source": [
    "artist_genres = data_w_genres[['artists', 'genres']]\n",
    "\n",
    "separated_artists = data.explode('artists')\n",
    "separated_artists = separated_artists.join(artist_genres.set_index('artists'), on='artists')\n",
    "\n",
    "cols = set(separated_artists.columns)\n",
    "cols.remove('artists')\n",
    "cols.remove('genres')\n",
    "songs_w_genres = separated_artists.groupby(list(cols), as_index=False).agg({'artists': [list], 'genres': [lambda x: x.iloc[0]]})\n",
    "songs_w_genres.columns = songs_w_genres.columns.droplevel(-1)\n",
    "songs_w_genres = songs_w_genres[songs_w_genres.genres != '[]'].dropna()\n",
    "\n",
    "genre_corpus = []\n",
    "\n",
    "for genres in songs_w_genres['genres']:\n",
    "    for genre in literal_eval(genres):\n",
    "        genre_corpus.append(genre)\n",
    "\n",
    "vectorizer = CountVectorizer(min_df=5750, ngram_range=(1,3))\n",
    "vectorizer.fit_transform(genre_corpus)\n",
    "# manually_pruned = set(['adult', 'album', 'alternative', 'and', 'art', 'contemporary', 'cool', 'dance', \n",
    "#                    'early', 'era', 'gold', 'hard', 'hip', 'hop', 'new', 'post', 'roots', 'singer', \n",
    "#                    'soft', 'songwriter', 'standards', 'mellow', 'wave', 'vocal jazz', 'cool jazz'])\n",
    "\n",
    "manually_pruned_combos = set(['psychedelic rock', 'classic rock', 'blues rock', 'adult', 'hip', 'hop', 'post', \n",
    "                              'songwriter', 'pop rap', 'roots rock', 'folk rock', 'and', 'era', 'art rock', \n",
    "                              'pop rock', 'new', 'hard rock', 'alternative rock', 'early', 'soft rock', 'cool jazz', \n",
    "                              'vocal jazz', 'dance pop', 'album rock', 'band', 'country rock', 'gold', 'singer', \n",
    "                              'mellow', 'standards', 'new wave'])\n",
    "\n",
    "genres = set(vectorizer.get_feature_names())\n",
    "\n",
    "genres = genres - manually_pruned_combos\n",
    "\n",
    "print(len(genres))\n",
    "print(genres)\n"
   ]
  },
  {
   "cell_type": "code",
   "execution_count": 3,
   "metadata": {},
   "outputs": [
    {
     "name": "stderr",
     "output_type": "stream",
     "text": [
      "<ipython-input-3-f922256c48e3>:17: SettingWithCopyWarning: \n",
      "A value is trying to be set on a copy of a slice from a DataFrame.\n",
      "Try using .loc[row_indexer,col_indexer] = value instead\n",
      "\n",
      "See the caveats in the documentation: https://pandas.pydata.org/pandas-docs/stable/user_guide/indexing.html#returning-a-view-versus-a-copy\n",
      "  artist_genres['genres'] = artist_genres['genres'].apply(process_genres)\n"
     ]
    }
   ],
   "source": [
    "def process_genres(genre_list):\n",
    "    vec = CountVectorizer(ngram_range=(1,3))\n",
    "    lst = literal_eval(genre_list)\n",
    "    new_genre_list = []\n",
    "    if lst:\n",
    "        try:\n",
    "            vec.fit_transform(lst)\n",
    "            for genre in vec.get_feature_names():\n",
    "                if genre in genres:\n",
    "                    new_genre_list.append(genre)\n",
    "        except:\n",
    "            if lst[0] in genres:\n",
    "                new_genre_list.append(lst[0])\n",
    "                \n",
    "    return new_genre_list if new_genre_list else np.nan\n",
    "\n",
    "artist_genres['genres'] = artist_genres['genres'].apply(process_genres)"
   ]
  },
  {
   "cell_type": "code",
   "execution_count": 4,
   "metadata": {},
   "outputs": [
    {
     "name": "stdout",
     "output_type": "stream",
     "text": [
      "(136879, 16)\n"
     ]
    }
   ],
   "source": [
    "useless_columns = ['artists', 'year', 'release_date', 'id']\n",
    "separated_artists = data.explode('artists')\n",
    "separated_artists = separated_artists.join(artist_genres.set_index('artists'), on='artists')\n",
    "\n",
    "cols = set(separated_artists.columns)\n",
    "cols.remove('artists')\n",
    "cols.remove('genres')\n",
    "songs_w_genres = separated_artists.groupby(list(cols), as_index=False).agg({'artists': [list], 'genres': [lambda x: x.iloc[0]]})\n",
    "songs_w_genres.columns = songs_w_genres.columns.droplevel(-1)\n",
    "songs_w_genres = songs_w_genres.drop(useless_columns, axis=1)\n",
    "songs_w_genres = songs_w_genres[songs_w_genres.genres != '[]'].dropna()\n",
    "\n",
    "print(songs_w_genres.shape)\n",
    "songs_w_genres.to_csv('spotify_data/processed_data.csv', index=False)"
   ]
  },
  {
   "cell_type": "code",
   "execution_count": null,
   "metadata": {},
   "outputs": [],
   "source": []
  }
 ],
 "metadata": {
  "kernelspec": {
   "display_name": "Python 3",
   "language": "python",
   "name": "python3"
  },
  "language_info": {
   "codemirror_mode": {
    "name": "ipython",
    "version": 3
   },
   "file_extension": ".py",
   "mimetype": "text/x-python",
   "name": "python",
   "nbconvert_exporter": "python",
   "pygments_lexer": "ipython3",
   "version": "3.8.3"
  }
 },
 "nbformat": 4,
 "nbformat_minor": 4
}
