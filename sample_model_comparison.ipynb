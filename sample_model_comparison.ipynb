{
 "cells": [
  {
   "cell_type": "code",
   "execution_count": 1,
   "metadata": {},
   "outputs": [],
   "source": [
    "import pandas as pd\n",
    "import numpy as np\n",
    "import matplotlib.pyplot as plt\n",
    "from sklearn.cluster import DBSCAN, AffinityPropagation, AgglomerativeClustering, SpectralClustering\n",
    "from sklearn.mixture import GaussianMixture\n",
    "from sklearn.preprocessing import StandardScaler\n",
    "from sklearn.metrics import silhouette_score, calinski_harabasz_score, davies_bouldin_score\n",
    "from sklearn.model_selection import train_test_split\n",
    "from collections import Counter\n",
    "\n",
    "data = pd.read_csv('spotify_data/processed_data.csv')\n",
    "\n",
    "train = data.drop(['genres', 'name'], axis=1)\n",
    "\n",
    "genres = data['genres']\n",
    "song_names = data['name']\n",
    "query = ['Bohemian Rhapsody', 'Baby']\n",
    "\n",
    "song_names_train = pd.Series([], dtype=str)\n",
    "while not pd.Series(query, name='name').isin(song_names_train).all():\n",
    "    X_train, _, genres_train, _, song_names_train, _ = train_test_split(train, genres, song_names, test_size=0.9) \n",
    "\n",
    "scaler = StandardScaler()\n",
    "scaler.fit(train)\n",
    "train_scale = scaler.transform(X_train)\n",
    "genres_train = list(genres_train)\n",
    "song_names_train = list(song_names_train)"
   ]
  },
  {
   "cell_type": "code",
   "execution_count": 2,
   "metadata": {},
   "outputs": [],
   "source": [
    "models = ['DBSCAN', 'Affinity Propagation', 'Agglomerative Clustering', 'Spectral Clustering', 'Gaussian Mixtures']\n",
    "model_preds = []\n",
    "s_scores = []\n",
    "ch_scores = []\n",
    "db_scores = []"
   ]
  },
  {
   "cell_type": "markdown",
   "metadata": {},
   "source": [
    "# DBSCAN"
   ]
  },
  {
   "cell_type": "code",
   "execution_count": 3,
   "metadata": {},
   "outputs": [],
   "source": [
    "model = DBSCAN(eps=2, min_samples=100)\n",
    "predictions = model.fit_predict(train_scale)\n",
    "y_pred = predictions[predictions != -1]\n",
    "clustered = train_scale[predictions != -1]\n",
    "outliers = train_scale[predictions == -1]\n",
    "\n",
    "model_preds.append(predictions)\n",
    "s_scores.append(silhouette_score(clustered, y_pred))\n",
    "ch_scores.append(calinski_harabasz_score(clustered, y_pred))\n",
    "db_scores.append(davies_bouldin_score(clustered, y_pred))"
   ]
  },
  {
   "cell_type": "markdown",
   "metadata": {},
   "source": [
    "# Affinity Propagation"
   ]
  },
  {
   "cell_type": "code",
   "execution_count": 4,
   "metadata": {},
   "outputs": [],
   "source": [
    "model = AffinityPropagation(random_state=0)\n",
    "y_pred = model.fit_predict(train_scale)\n",
    "\n",
    "model_preds.append(y_pred)\n",
    "s_scores.append(silhouette_score(train_scale, y_pred))\n",
    "ch_scores.append(calinski_harabasz_score(train_scale, y_pred))\n",
    "db_scores.append(davies_bouldin_score(train_scale, y_pred))"
   ]
  },
  {
   "cell_type": "markdown",
   "metadata": {},
   "source": [
    "# Agglomerative Clustering"
   ]
  },
  {
   "cell_type": "code",
   "execution_count": 5,
   "metadata": {},
   "outputs": [],
   "source": [
    "model = AgglomerativeClustering(n_clusters=8)\n",
    "y_pred = model.fit_predict(train_scale)\n",
    "\n",
    "model_preds.append(y_pred)\n",
    "s_scores.append(silhouette_score(train_scale, y_pred))\n",
    "ch_scores.append(calinski_harabasz_score(train_scale, y_pred))\n",
    "db_scores.append(davies_bouldin_score(train_scale, y_pred))"
   ]
  },
  {
   "cell_type": "markdown",
   "metadata": {},
   "source": [
    "# Spectral Clustering"
   ]
  },
  {
   "cell_type": "code",
   "execution_count": 6,
   "metadata": {},
   "outputs": [],
   "source": [
    "model = SpectralClustering(assign_labels='discretize', n_clusters=5, random_state=0)\n",
    "y_pred = model.fit_predict(train_scale)\n",
    "\n",
    "model_preds.append(y_pred)\n",
    "s_scores.append(silhouette_score(train_scale, y_pred))\n",
    "ch_scores.append(calinski_harabasz_score(train_scale, y_pred))\n",
    "db_scores.append(davies_bouldin_score(train_scale, y_pred))"
   ]
  },
  {
   "cell_type": "markdown",
   "metadata": {},
   "source": [
    "# Gaussian Mixtures"
   ]
  },
  {
   "cell_type": "code",
   "execution_count": 7,
   "metadata": {},
   "outputs": [],
   "source": [
    "model = GaussianMixture(n_components=6)\n",
    "y_pred = model.fit_predict(train_scale)\n",
    "\n",
    "model_preds.append(y_pred)\n",
    "s_scores.append(silhouette_score(train_scale, y_pred))\n",
    "ch_scores.append(calinski_harabasz_score(train_scale, y_pred))\n",
    "db_scores.append(davies_bouldin_score(train_scale, y_pred))"
   ]
  },
  {
   "cell_type": "markdown",
   "metadata": {},
   "source": [
    "# Comparison"
   ]
  },
  {
   "cell_type": "code",
   "execution_count": 8,
   "metadata": {},
   "outputs": [
    {
     "name": "stdout",
     "output_type": "stream",
     "text": [
      "DBSCAN\n",
      "\tSilhouette Score: 0.12790638039831206\n",
      "\tCalinski Harabasz Score: 983.841312562201\n",
      "\tDavies Bouldin Score: 2.38596581303545\n",
      "Affinity Propagation\n",
      "\tSilhouette Score: 0.07597156380318049\n",
      "\tCalinski Harabasz Score: 121.60870806257314\n",
      "\tDavies Bouldin Score: 1.8093309905878492\n",
      "Agglomerative Clustering\n",
      "\tSilhouette Score: 0.11611405883426464\n",
      "\tCalinski Harabasz Score: 1278.5006739330572\n",
      "\tDavies Bouldin Score: 1.9220176133814513\n",
      "Spectral Clustering\n",
      "\tSilhouette Score: 0.24589185166106559\n",
      "\tCalinski Harabasz Score: 524.074345659219\n",
      "\tDavies Bouldin Score: 1.8059335255652775\n",
      "Gaussian Mixtures\n",
      "\tSilhouette Score: 0.04465889874169526\n",
      "\tCalinski Harabasz Score: 904.6123410309085\n",
      "\tDavies Bouldin Score: 4.034299099698008\n"
     ]
    }
   ],
   "source": [
    "for i in range(len(models)):\n",
    "    print(models[i])\n",
    "    print(f'\\tSilhouette Score: {s_scores[i]}')\n",
    "    print(f'\\tCalinski Harabasz Score: {ch_scores[i]}')\n",
    "    print(f'\\tDavies Bouldin Score: {db_scores[i]}')"
   ]
  },
  {
   "cell_type": "markdown",
   "metadata": {},
   "source": [
    "# Recommendations"
   ]
  },
  {
   "cell_type": "code",
   "execution_count": 11,
   "metadata": {
    "scrolled": false
   },
   "outputs": [
    {
     "name": "stdout",
     "output_type": "stream",
     "text": [
      "DBSCAN\n",
      "\tRecommendations Based On Bohemian Rhapsody, genres = ['rock']\n",
      "\t\tBohemian Rhapsody - 2011 Mix, genres = ['rock']\n",
      "\t\tSiempre Estás Allí, genres = ['latin', 'metal', 'rock']\n",
      "\t\tWhite Man, genres = ['rock']\n",
      "\t\tCathedral, genres = ['album', 'art', 'blues', 'classic', 'country', 'folk', 'mellow gold', 'psychedelic', 'rock', 'roots', 'soft', 'traditional']\n",
      "\t\tRussians, genres = ['rock', 'soft', 'wave']\n",
      "\t\tThe Prophet's Song - Remastered 2011, genres = ['rock']\n",
      "\t\tRudy, genres = ['album', 'art', 'classic', 'folk', 'mellow gold', 'rock', 'soft']\n",
      "\t\tSomeday My Prince Will Come, genres = ['bebop', 'bop', 'contemporary', 'cool', 'hard', 'jazz']\n",
      "\t\tAlmost Goodbye, genres = ['country', 'rock']\n",
      "\t\t老情歌, genres = ['classic', 'pop']\n",
      "\tRecommendations Based On Baby, genres = ['indie', 'psychedelic', 'rock']\n",
      "\t\tMy Heart Goes Bum Bum Bum, genres = ['indie', 'pop']\n",
      "\t\tWhere Are You Going, genres = ['pop', 'rock']\n",
      "\t\tPorpoise Song, genres = ['classic', 'country', 'folk', 'mellow gold', 'pop', 'psychedelic', 'rock', 'soft']\n",
      "\t\tLet It Be Me, genres = ['adult standards', 'mellow gold']\n",
      "\t\tFotzepolitic, genres = ['alternative', 'art', 'dance', 'indie', 'pop', 'punk', 'rock', 'wave']\n",
      "\t\tForever in Love, genres = ['jazz']\n",
      "\t\tThe Great Pretender, genres = ['rock']\n",
      "\t\tDead Men Tell No Tales, genres = ['album', 'alternative', 'hard', 'metal', 'rock']\n",
      "\t\tWhat Am I Gonna Do (With the Rest of My Life), genres = ['country', 'rock']\n",
      "\t\tToo Much Love Will Kill You - 2011 Remaster, genres = ['rock']\n",
      "Affinity Propagation\n",
      "\tRecommendations Based On Bohemian Rhapsody, genres = ['rock']\n",
      "\t\tBohemian Rhapsody - 2011 Mix, genres = ['rock']\n",
      "\t\tTonite, genres = ['adult standards', 'mellow gold', 'rock', 'soft']\n",
      "\t\tHere Comes The Flood, genres = ['album', 'art', 'classic', 'dance', 'mellow gold', 'pop', 'rock', 'soft', 'wave']\n",
      "\t\tRussians, genres = ['rock', 'soft', 'wave']\n",
      "\t\tI Gave You All, genres = ['folk', 'modern', 'rock']\n",
      "\t\tOats In The Water, genres = ['folk', 'indie', 'pop', 'singer songwriter']\n",
      "\t\tOh Girl, genres = ['classic', 'funk', 'soul', 'southern']\n",
      "\t\tWishing You Were Here - 2002 Remaster, genres = ['alternative', 'hip hop', 'indie', 'rap', 'soul', 'southern']\n",
      "\t\tWith A Child's Heart, genres = ['pop', 'soul']\n",
      "\t\tMaybe It's Love This Time, genres = ['adult standards', 'classic', 'funk', 'soul']\n",
      "\tRecommendations Based On Baby, genres = ['indie', 'psychedelic', 'rock']\n",
      "\t\tMy Heart Goes Bum Bum Bum, genres = ['indie', 'pop']\n",
      "\t\tWhere Are You Going, genres = ['pop', 'rock']\n",
      "\t\tPorpoise Song, genres = ['classic', 'country', 'folk', 'mellow gold', 'pop', 'psychedelic', 'rock', 'soft']\n",
      "\t\tForever in Love, genres = ['jazz']\n",
      "\t\tToo Much Love Will Kill You - 2011 Remaster, genres = ['rock']\n",
      "\t\tHoy Te Confieso, genres = ['pop']\n",
      "\t\tSin Hablar, genres = ['latin', 'pop']\n",
      "\t\tWalk On - Remastered 2015, genres = ['adult standards', 'classic', 'folk', 'mellow gold', 'pop', 'rock', 'soft']\n",
      "\t\tMore Than Anyone, genres = ['pop', 'rock']\n",
      "\t\tRight Or Wrong, genres = ['country', 'rock']\n",
      "Agglomerative Clustering\n",
      "\tRecommendations Based On Bohemian Rhapsody, genres = ['rock']\n",
      "\t\tBohemian Rhapsody - 2011 Mix, genres = ['rock']\n",
      "\t\tSiempre Estás Allí, genres = ['latin', 'metal', 'rock']\n",
      "\t\tAngela, genres = ['album', 'classic', 'mellow gold', 'rock', 'soft']\n",
      "\t\tTonite, genres = ['adult standards', 'mellow gold', 'rock', 'soft']\n",
      "\t\tWhite Man, genres = ['rock']\n",
      "\t\tI Gave You All, genres = ['folk', 'modern', 'rock']\n",
      "\t\tSara, genres = ['album', 'classic', 'country', 'folk', 'mellow gold', 'rock', 'roots', 'singer songwriter']\n",
      "\t\tOats In The Water, genres = ['folk', 'indie', 'pop', 'singer songwriter']\n",
      "\t\tYoung Love, genres = ['classic', 'contemporary', 'funk', 'soul', 'swing']\n",
      "\t\tOh Girl, genres = ['classic', 'funk', 'soul', 'southern']\n",
      "\tRecommendations Based On Baby, genres = ['indie', 'psychedelic', 'rock']\n",
      "\t\tMy Heart Goes Bum Bum Bum, genres = ['indie', 'pop']\n",
      "\t\tPorpoise Song, genres = ['classic', 'country', 'folk', 'mellow gold', 'pop', 'psychedelic', 'rock', 'soft']\n",
      "\t\tFotzepolitic, genres = ['alternative', 'art', 'dance', 'indie', 'pop', 'punk', 'rock', 'wave']\n",
      "\t\tThe Great Pretender, genres = ['rock']\n",
      "\t\tDead Men Tell No Tales, genres = ['album', 'alternative', 'hard', 'metal', 'rock']\n",
      "\t\tWhat Am I Gonna Do (With the Rest of My Life), genres = ['country', 'rock']\n",
      "\t\tLove Love Love - AU Master, genres = ['folk']\n",
      "\t\tKing For A Day, genres = ['grunge', 'pop', 'punk']\n",
      "\t\tIronic, genres = ['alternative', 'pop', 'rock', 'singer songwriter']\n",
      "\t\tNo Querías Lastimarme, genres = ['latin', 'pop']\n",
      "Spectral Clustering\n",
      "\tRecommendations Based On Bohemian Rhapsody, genres = ['rock']\n",
      "\t\tBohemian Rhapsody - 2011 Mix, genres = ['rock']\n",
      "\t\tSiempre Estás Allí, genres = ['latin', 'metal', 'rock']\n",
      "\t\tAngela, genres = ['album', 'classic', 'mellow gold', 'rock', 'soft']\n",
      "\t\tTonite, genres = ['adult standards', 'mellow gold', 'rock', 'soft']\n",
      "\t\tHere Comes The Flood, genres = ['album', 'art', 'classic', 'dance', 'mellow gold', 'pop', 'rock', 'soft', 'wave']\n",
      "\t\tWhite Man, genres = ['rock']\n",
      "\t\tCathedral, genres = ['album', 'art', 'blues', 'classic', 'country', 'folk', 'mellow gold', 'psychedelic', 'rock', 'roots', 'soft', 'traditional']\n",
      "\t\tRussians, genres = ['rock', 'soft', 'wave']\n",
      "\t\tI Gave You All, genres = ['folk', 'modern', 'rock']\n",
      "\t\tSara, genres = ['album', 'classic', 'country', 'folk', 'mellow gold', 'rock', 'roots', 'singer songwriter']\n",
      "\tRecommendations Based On Baby, genres = ['indie', 'psychedelic', 'rock']\n",
      "\t\tMy Heart Goes Bum Bum Bum, genres = ['indie', 'pop']\n",
      "\t\tWhere Are You Going, genres = ['pop', 'rock']\n",
      "\t\tPorpoise Song, genres = ['classic', 'country', 'folk', 'mellow gold', 'pop', 'psychedelic', 'rock', 'soft']\n",
      "\t\tLet It Be Me, genres = ['adult standards', 'mellow gold']\n",
      "\t\tFotzepolitic, genres = ['alternative', 'art', 'dance', 'indie', 'pop', 'punk', 'rock', 'wave']\n",
      "\t\tForever in Love, genres = ['jazz']\n",
      "\t\tThe Great Pretender, genres = ['rock']\n",
      "\t\tDead Men Tell No Tales, genres = ['album', 'alternative', 'hard', 'metal', 'rock']\n",
      "\t\tWhat Am I Gonna Do (With the Rest of My Life), genres = ['country', 'rock']\n",
      "\t\tToo Much Love Will Kill You - 2011 Remaster, genres = ['rock']\n",
      "Gaussian Mixtures\n",
      "\tRecommendations Based On Bohemian Rhapsody, genres = ['rock']\n",
      "\t\tBohemian Rhapsody - 2011 Mix, genres = ['rock']\n",
      "\t\tAngela, genres = ['album', 'classic', 'mellow gold', 'rock', 'soft']\n",
      "\t\tTonite, genres = ['adult standards', 'mellow gold', 'rock', 'soft']\n",
      "\t\tHere Comes The Flood, genres = ['album', 'art', 'classic', 'dance', 'mellow gold', 'pop', 'rock', 'soft', 'wave']\n",
      "\t\tWhite Man, genres = ['rock']\n",
      "\t\tCathedral, genres = ['album', 'art', 'blues', 'classic', 'country', 'folk', 'mellow gold', 'psychedelic', 'rock', 'roots', 'soft', 'traditional']\n",
      "\t\tRussians, genres = ['rock', 'soft', 'wave']\n",
      "\t\tSara, genres = ['album', 'classic', 'country', 'folk', 'mellow gold', 'rock', 'roots', 'singer songwriter']\n",
      "\t\tYoung Love, genres = ['classic', 'contemporary', 'funk', 'soul', 'swing']\n",
      "\t\tOh Girl, genres = ['classic', 'funk', 'soul', 'southern']\n",
      "\tRecommendations Based On Baby, genres = ['indie', 'psychedelic', 'rock']\n",
      "\t\tMy Heart Goes Bum Bum Bum, genres = ['indie', 'pop']\n",
      "\t\tWhere Are You Going, genres = ['pop', 'rock']\n",
      "\t\tPorpoise Song, genres = ['classic', 'country', 'folk', 'mellow gold', 'pop', 'psychedelic', 'rock', 'soft']\n",
      "\t\tFotzepolitic, genres = ['alternative', 'art', 'dance', 'indie', 'pop', 'punk', 'rock', 'wave']\n",
      "\t\tForever in Love, genres = ['jazz']\n",
      "\t\tSmokestack Lightning, genres = ['album', 'art', 'blues', 'classic', 'hard', 'rock']\n",
      "\t\tMay This Be Love, genres = ['album', 'blues', 'classic', 'hard', 'psychedelic', 'rock']\n",
      "\t\tWalk On - Remastered 2015, genres = ['adult standards', 'classic', 'folk', 'mellow gold', 'pop', 'rock', 'soft']\n",
      "\t\tOver the Hills and Far Away - 2012 Remaster, genres = ['album', 'classic', 'hard', 'rock']\n",
      "\t\tDecomposing Trees, genres = ['alternative', 'art', 'dance', 'folk', 'indie', 'pop', 'rock', 'wave']\n"
     ]
    }
   ],
   "source": [
    "recs_shown = 10\n",
    "\n",
    "for i in range(len(models)):\n",
    "    print(models[i])\n",
    "    for song in query:\n",
    "        song_index = song_names_train.index(song)\n",
    "        values = train_scale[song_index]\n",
    "        label = model_preds[i][song_index]\n",
    "        dists = np.sqrt(((train_scale - values) ** 2).sum(axis=1))\n",
    "        dists[model_preds[i] != label] = np.Inf\n",
    "        recs = np.argsort(dists)[1:recs_shown + 1]\n",
    "        print(f'\\tRecommendations Based On {song}, genres = {genres_train[song_index]}')\n",
    "        for rec in recs:\n",
    "            print(f'\\t\\t{song_names_train[rec]}, genres = {genres_train[rec]}')"
   ]
  },
  {
   "cell_type": "code",
   "execution_count": null,
   "metadata": {},
   "outputs": [],
   "source": []
  }
 ],
 "metadata": {
  "kernelspec": {
   "display_name": "Python 3",
   "language": "python",
   "name": "python3"
  },
  "language_info": {
   "codemirror_mode": {
    "name": "ipython",
    "version": 3
   },
   "file_extension": ".py",
   "mimetype": "text/x-python",
   "name": "python",
   "nbconvert_exporter": "python",
   "pygments_lexer": "ipython3",
   "version": "3.8.3"
  }
 },
 "nbformat": 4,
 "nbformat_minor": 4
}
