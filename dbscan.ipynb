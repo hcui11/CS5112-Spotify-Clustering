{
 "cells": [
  {
   "cell_type": "code",
   "execution_count": 1,
   "metadata": {
    "scrolled": false
   },
   "outputs": [],
   "source": [
    "import pandas as pd\n",
    "import matplotlib.pyplot as plt\n",
    "from sklearn.cluster import DBSCAN\n",
    "from sklearn.preprocessing import StandardScaler\n",
    "from sklearn.metrics import silhouette_score, calinski_harabasz_score, davies_bouldin_score\n",
    "from collections import Counter\n",
    "\n",
    "data = pd.read_csv('spotify_data/processed_data.csv')\n",
    "\n",
    "train = data.drop(['genres'], axis=1)\n",
    "\n",
    "genres = data['genres']"
   ]
  },
  {
   "cell_type": "code",
   "execution_count": null,
   "metadata": {},
   "outputs": [
    {
     "name": "stdout",
     "output_type": "stream",
     "text": [
      "1.0,20:\n",
      "\tClusters:25\n",
      "\tOutliers:89911\n",
      "\tScores: -0.11385795948297768, 558.9457943492849, 1.3449673734356367\n",
      "1.0,40:\n",
      "\tClusters:6\n",
      "\tOutliers:106739\n",
      "\tScores: 0.0698510019601026, 754.6904870100512, 1.3107250888751187\n",
      "1.0,60:\n",
      "\tClusters:5\n",
      "\tOutliers:118176\n",
      "\tScores: 0.039510033912125, 120.42352581517575, 1.293810205219327\n",
      "1.0,80:\n",
      "\tClusters:4\n",
      "\tOutliers:125265\n",
      "\tScores: 0.04699199604041255, 3408.734590140468, 1.1830264456928945\n",
      "1.0,100:\n",
      "\tClusters:6\n",
      "\tOutliers:129921\n",
      "\tScores: 0.3437255891917812, 1467.6227698642745, 1.1522195184211184\n",
      "2.0,20:\n",
      "\tClusters:4\n",
      "\tOutliers:3227\n",
      "\tScores: 0.11773504073827959, 10362.03109969418, 2.6515810883493764\n",
      "2.0,40:\n",
      "\tClusters:4\n",
      "\tOutliers:4505\n",
      "\tScores: 0.11846622908312439, 10344.497476063983, 2.625038842171962\n",
      "2.0,60:\n",
      "\tClusters:4\n",
      "\tOutliers:5587\n",
      "\tScores: 0.11890303482949581, 10292.24336949861, 2.6033418869140976\n",
      "2.0,80:\n",
      "\tClusters:4\n",
      "\tOutliers:6568\n",
      "\tScores: 0.11933049338096521, 10254.12533974023, 2.5864801478168435\n",
      "2.0,100:\n",
      "\tClusters:4\n",
      "\tOutliers:7476\n",
      "\tScores: 0.11952108661053262, 10200.762439469603, 2.569343230726567\n"
     ]
    }
   ],
   "source": [
    "dbscan_scaler = StandardScaler()\n",
    "dbscan_scaler.fit(train)\n",
    "train_scale = dbscan_scaler.transform(train)\n",
    "\n",
    "\n",
    "eps_space = [1.0, 2.0, 5.0, 10.0, 20.0]\n",
    "min_samples_space = range(20,101,20) \n",
    "\n",
    "s_scores = []\n",
    "ch_scores = []\n",
    "db_scores = []\n",
    "\n",
    "for eps in eps_space:\n",
    "    for min_samples in min_samples_space:\n",
    "        dbscan = DBSCAN(eps=eps, min_samples=min_samples)\n",
    "        predictions = dbscan.fit_predict(train_scale)\n",
    "        y_pred = predictions[predictions != -1]\n",
    "        clustered = train_scale[predictions != -1]\n",
    "        outliers = train_scale[predictions == -1]\n",
    "        \n",
    "        s_scores.append(silhouette_score(clustered, y_pred))\n",
    "        ch_scores.append(calinski_harabasz_score(clustered, y_pred))\n",
    "        db_scores.append(davies_bouldin_score(clustered, y_pred))\n",
    "        \n",
    "        n_clusters = len(Counter(y_pred))\n",
    "        print(f'{eps},{min_samples}:')\n",
    "        print(f'\\tClusters:{n_clusters}')\n",
    "        print(f'\\tOutliers:{outliers.shape[0]}')\n",
    "        print(f'\\tScores: {s_scores[-1]}, {ch_scores[-1]}, {db_scores[-1]}')\n",
    "\n",
    "\n",
    "# Tabulate Genres\n",
    "# label_map = defaultdict(lambda: defaultdict(int))\n",
    "\n",
    "# for i in range(len(y_pred)):\n",
    "#     for genre in literal_eval(y.iloc[i]):\n",
    "#         label_map[y_pred[i]][genre] += 1\n",
    "        \n",
    "# for label, genres in label_map.items():\n",
    "#     print(f'label: {label}')\n",
    "#     genre_counts = genres.items()\n",
    "#     print(sorted(genres.items(), key=lambda x: x[1], reverse=True))\n",
    "    "
   ]
  }
 ],
 "metadata": {
  "kernelspec": {
   "display_name": "Python 3",
   "language": "python",
   "name": "python3"
  },
  "language_info": {
   "codemirror_mode": {
    "name": "ipython",
    "version": 3
   },
   "file_extension": ".py",
   "mimetype": "text/x-python",
   "name": "python",
   "nbconvert_exporter": "python",
   "pygments_lexer": "ipython3",
   "version": "3.8.3"
  }
 },
 "nbformat": 4,
 "nbformat_minor": 4
}
