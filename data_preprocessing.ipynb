{
 "cells": [
  {
   "cell_type": "code",
   "execution_count": 18,
   "metadata": {},
   "outputs": [],
   "source": [
    "import pandas as pd\n",
    "from ast import literal_eval\n",
    "\n",
    "data = pd.read_csv('spotify_data/data.csv')\n",
    "data['artists'] = data['artists'].apply(literal_eval)\n",
    "data_w_genres = pd.read_csv('spotify_data/data_w_genres.csv')"
   ]
  },
  {
   "cell_type": "code",
   "execution_count": 75,
   "metadata": {},
   "outputs": [],
   "source": [
    "artist_genres = data_w_genres[['artists', 'genres']]\n",
    "separated_artists = data.explode('artists')\n",
    "separated_artists = separated_artists.join(artist_genres.set_index('artists'), on='artists')\n",
    "\n",
    "cols = set(separated_artists.columns)\n",
    "cols.remove('artists')\n",
    "cols.remove('genres')\n",
    "songs_w_genres = separated_artists.groupby(list(cols), as_index=False).agg({'artists': [list], 'genres': [lambda x: x.iloc[0]]})\n",
    "df.columns = df.columns.droplevel(-1)\n",
    "songs_w_genres.to_csv('spotify_data/processed_data.csv')"
   ]
  },
  {
   "cell_type": "code",
   "execution_count": null,
   "metadata": {},
   "outputs": [],
   "source": []
  }
 ],
 "metadata": {
  "kernelspec": {
   "display_name": "Python 3",
   "language": "python",
   "name": "python3"
  },
  "language_info": {
   "codemirror_mode": {
    "name": "ipython",
    "version": 3
   },
   "file_extension": ".py",
   "mimetype": "text/x-python",
   "name": "python",
   "nbconvert_exporter": "python",
   "pygments_lexer": "ipython3",
   "version": "3.8.3"
  }
 },
 "nbformat": 4,
 "nbformat_minor": 4
}
