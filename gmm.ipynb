{
 "cells": [
  {
   "cell_type": "code",
   "execution_count": 1,
   "metadata": {},
   "outputs": [],
   "source": [
    "import pandas as pd\n",
    "import matplotlib.pyplot as plt\n",
    "from sklearn.mixture import GaussianMixture\n",
    "from sklearn.preprocessing import StandardScaler\n",
    "from sklearn.metrics import silhouette_score, calinski_harabasz_score, davies_bouldin_score\n",
    "from collections import defaultdict\n",
    "\n",
    "data = pd.read_csv('spotify_data/processed_data.csv')\n",
    "\n",
    "train = data.drop(['genres'], axis=1)\n",
    "\n",
    "y = data['genres']"
   ]
  },
  {
   "cell_type": "code",
   "execution_count": 2,
   "metadata": {},
   "outputs": [
    {
     "name": "stdout",
     "output_type": "stream",
     "text": [
      "5: 0.05923823987742231, 10885.959463479689, 3.8126830775172578\n",
      "6: 0.10566137971699374, 8593.195918415006, 2.6739522409466616\n",
      "7: 0.03289169206435672, 7542.944549515104, 3.8108858722997807\n",
      "8: 0.008601442264138937, 6930.608761828666, 3.8279400754260604\n",
      "9: 0.04083208167858956, 6583.7002250558835, 3.4756507489520163\n",
      "10: 0.024194237594307937, 5929.11453821944, 3.3869157851530227\n",
      "11: -0.008200941941852185, 5518.480074875708, 4.614035168793329\n",
      "12: 0.015613966236474701, 5243.607068659654, 3.625495874170719\n",
      "13: 0.022676080275781215, 5981.310211124737, 3.384719897273641\n",
      "14: -0.006388932349715336, 4823.630758178613, 4.929510988054477\n",
      "15: 0.007639875844318611, 5213.340295885055, 4.312068950518247\n",
      "16: 0.00622808562292576, 4402.8610953532925, 3.6711968781470055\n",
      "17: 0.016393202204405478, 4654.592414625436, 3.686602879741948\n",
      "18: -0.0077106248538227114, 4581.081657767402, 4.219772879067958\n",
      "19: -0.029944969052932317, 3824.4814164973436, 4.234026469273697\n",
      "20: -0.025718160375589084, 4412.995961714097, 4.405895210174738\n",
      "21: -0.010091227552836549, 3955.1164933466403, 3.844779596645865\n",
      "22: -0.0019957985921072213, 4111.159774802553, 4.224533741368227\n",
      "23: -0.015904058580748025, 4072.932140310888, 3.762013906125685\n",
      "24: -0.01863223668356346, 3869.378820897537, 3.8228678462062233\n",
      "25: -0.030094377402932332, 3668.6183820696706, 4.177291420053425\n",
      "26: -0.03146308427991298, 3617.229235091598, 4.05808994005084\n",
      "27: -0.03764168071587742, 3592.842511886151, 4.317650092183005\n",
      "28: -0.02626619838887097, 3465.7842973326456, 4.127666394649861\n",
      "29: -0.02638257523709683, 3427.3115399951253, 4.301733653257976\n"
     ]
    }
   ],
   "source": [
    "gaussian_scaler = StandardScaler()\n",
    "gaussian_scaler.fit(train)\n",
    "train_scale = gaussian_scaler.transform(train)\n",
    "\n",
    "s_scores = []\n",
    "ch_scores = []\n",
    "db_scores = []\n",
    "\n",
    "for i in range(5, 30):\n",
    "    model = GaussianMixture(n_components=i)\n",
    "    y_pred = model.fit_predict(train_scale)\n",
    "    s_scores.append(silhouette_score(train_scale, y_pred))\n",
    "    ch_scores.append(calinski_harabasz_score(train_scale, y_pred))\n",
    "    db_scores.append(davies_bouldin_score(train_scale, y_pred))\n",
    "    print(f'{i}: {s_scores[-1]}, {ch_scores[-1]}, {db_scores[-1]}')"
   ]
  },
  {
   "cell_type": "code",
   "execution_count": 3,
   "metadata": {},
   "outputs": [],
   "source": [
    "# plt.plot(range(8,8+len(scores)), scores,'.-', markersize=15)\n",
    "# plt.xlabel(\"Number of clusters K\")\n",
    "# plt.ylabel(\"Objective Function Value\")"
   ]
  },
  {
   "cell_type": "code",
   "execution_count": null,
   "metadata": {},
   "outputs": [],
   "source": []
  }
 ],
 "metadata": {
  "kernelspec": {
   "display_name": "Python 3",
   "language": "python",
   "name": "python3"
  },
  "language_info": {
   "codemirror_mode": {
    "name": "ipython",
    "version": 3
   },
   "file_extension": ".py",
   "mimetype": "text/x-python",
   "name": "python",
   "nbconvert_exporter": "python",
   "pygments_lexer": "ipython3",
   "version": "3.8.3"
  }
 },
 "nbformat": 4,
 "nbformat_minor": 4
}
