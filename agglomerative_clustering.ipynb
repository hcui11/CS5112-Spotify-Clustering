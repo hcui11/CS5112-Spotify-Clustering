{
 "cells": [
  {
   "cell_type": "code",
   "execution_count": 1,
   "metadata": {},
   "outputs": [
    {
     "data": {
      "text/plain": [
       "(13687, 14)"
      ]
     },
     "execution_count": 1,
     "metadata": {},
     "output_type": "execute_result"
    }
   ],
   "source": [
    "import pandas as pd\n",
    "import matplotlib.pyplot as plt\n",
    "from sklearn.cluster import AgglomerativeClustering\n",
    "from sklearn.preprocessing import StandardScaler\n",
    "from sklearn.metrics import silhouette_score, calinski_harabasz_score, davies_bouldin_score\n",
    "from sklearn.model_selection import train_test_split\n",
    "from collections import defaultdict\n",
    "\n",
    "data = pd.read_csv('spotify_data/processed_data.csv')\n",
    "\n",
    "train = data.drop(['genres'], axis=1)\n",
    "\n",
    "genres = data['genres']\n",
    "\n",
    "X_train, X_test = train_test_split(train, test_size=0.9) \n",
    "X_train.shape"
   ]
  },
  {
   "cell_type": "code",
   "execution_count": 2,
   "metadata": {},
   "outputs": [
    {
     "name": "stdout",
     "output_type": "stream",
     "text": [
      "5: 0.10145477666432294, 1541.3742436351583, 2.4178595383745813\n",
      "6: 0.11526572025721284, 1436.7469736889996, 2.136868197271985\n",
      "7: 0.12008738782885683, 1331.069737807331, 1.9876133400885951\n",
      "8: 0.12352839928044607, 1246.301034772585, 1.8324027011622777\n",
      "9: 0.10277394355606322, 1178.2006173033049, 1.9439745882367079\n",
      "10: 0.09561338334959232, 1129.4613937751694, 2.013216077289272\n",
      "11: 0.09361082568883855, 1079.1898396515128, 1.8825028592052506\n",
      "12: 0.08034545084139136, 1037.5266799619694, 1.9103000844067977\n",
      "13: 0.08269930460851203, 995.9295242553019, 1.886281532999002\n",
      "14: 0.07454762608399881, 961.5161864484327, 1.943618652647846\n",
      "15: 0.06984542011170429, 925.544028995747, 2.025006316812215\n",
      "16: 0.06898849712487264, 894.3783217340065, 2.0049397387176358\n",
      "17: 0.0639587686692078, 866.8984160062441, 1.9924883149945865\n",
      "18: 0.06690605232796028, 840.82893836602, 1.9900012055754692\n",
      "19: 0.06995877443205109, 818.2223455136082, 2.0575537342168237\n"
     ]
    }
   ],
   "source": [
    "ac_scaler = StandardScaler()\n",
    "ac_scaler.fit(train)\n",
    "train_scale = ac_scaler.transform(X_train)\n",
    "\n",
    "s_scores = []\n",
    "ch_scores = []\n",
    "db_scores = []\n",
    "\n",
    "for i in range(5, 20):\n",
    "    model = AgglomerativeClustering(n_clusters=i)\n",
    "    y_pred = model.fit_predict(train_scale)\n",
    "    s_scores.append(silhouette_score(train_scale, y_pred))\n",
    "    ch_scores.append(calinski_harabasz_score(train_scale, y_pred))\n",
    "    db_scores.append(davies_bouldin_score(train_scale, y_pred))\n",
    "    print(f'{i}: {s_scores[-1]}, {ch_scores[-1]}, {db_scores[-1]}')"
   ]
  }
 ],
 "metadata": {
  "kernelspec": {
   "display_name": "Python 3",
   "language": "python",
   "name": "python3"
  },
  "language_info": {
   "codemirror_mode": {
    "name": "ipython",
    "version": 3
   },
   "file_extension": ".py",
   "mimetype": "text/x-python",
   "name": "python",
   "nbconvert_exporter": "python",
   "pygments_lexer": "ipython3",
   "version": "3.8.3"
  }
 },
 "nbformat": 4,
 "nbformat_minor": 4
}
