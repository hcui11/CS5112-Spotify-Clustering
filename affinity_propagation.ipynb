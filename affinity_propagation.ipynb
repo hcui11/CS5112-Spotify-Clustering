{
 "cells": [
  {
   "cell_type": "code",
   "execution_count": 1,
   "metadata": {
    "cell_id": "00000-0eb79548-bf35-4fb1-af2d-f6a214edd76e",
    "deepnote_cell_type": "code",
    "execution_millis": 265,
    "execution_start": 1606371489813,
    "output_cleared": false,
    "source_hash": "9c83a3ce",
    "tags": []
   },
   "outputs": [
    {
     "data": {
      "text/plain": [
       "(13687, 14)"
      ]
     },
     "execution_count": 1,
     "metadata": {},
     "output_type": "execute_result"
    }
   ],
   "source": [
    "import pandas as pd\n",
    "import numpy as np\n",
    "import matplotlib.pyplot as plt\n",
    "from sklearn.cluster import AffinityPropagation\n",
    "from sklearn.preprocessing import StandardScaler\n",
    "from sklearn.metrics import silhouette_score, calinski_harabasz_score, davies_bouldin_score\n",
    "from sklearn.model_selection import train_test_split\n",
    "from collections import Counter\n",
    "\n",
    "data = pd.read_csv('spotify_data/processed_data.csv')\n",
    "\n",
    "train = data.drop(['genres', 'name'], axis=1)\n",
    "\n",
    "genres = data['genres']\n",
    "\n",
    "X_train, X_test = train_test_split(train, test_size=0.9) \n",
    "X_train.shape"
   ]
  },
  {
   "cell_type": "code",
   "execution_count": null,
   "metadata": {
    "cell_id": "00001-fde44077-5341-49dc-b1be-8dc85b562be3",
    "deepnote_cell_type": "code",
    "execution_millis": 55055,
    "execution_start": 1606371490084,
    "output_cleared": false,
    "source_hash": "5ea9d756",
    "tags": []
   },
   "outputs": [],
   "source": [
    "scaler = StandardScaler()\n",
    "scaler.fit(train)\n",
    "train_scale = scaler.transform(X_train)\n",
    "\n",
    "s_scores = []\n",
    "ch_scores = []\n",
    "db_scores = []\n",
    "\n",
    "model = AffinityPropagation(random_state=0)\n",
    "y_pred = model.fit_predict(train_scale)\n",
    "s_scores.append(silhouette_score(train_scale, y_pred))\n",
    "ch_scores.append(calinski_harabasz_score(train_scale, y_pred))\n",
    "db_scores.append(davies_bouldin_score(train_scale, y_pred))\n",
    "print(f'{s_scores[-1]}, {ch_scores[-1]}, {db_scores[-1]}')"
   ]
  },
  {
   "cell_type": "code",
   "execution_count": null,
   "metadata": {},
   "outputs": [],
   "source": [
    "x_avg = train_scale.mean(axis=0)\n",
    "dists = np.absolute(x_avg - model.cluster_centers_)\n",
    "indices = np.argsort(dists, axis=1)[:,-5:]\n",
    "\n",
    "features = train.columns\n",
    "\n",
    "for cluster in range(model.cluster_centers_.shape[0]):\n",
    "    print(f'Cluster {cluster} Top Features:')\n",
    "    for i in range(4, -1, -1):\n",
    "        print(f'\\t{features[indices[cluster, i]]}')"
   ]
  },
  {
   "cell_type": "code",
   "execution_count": null,
   "metadata": {},
   "outputs": [],
   "source": []
  }
 ],
 "metadata": {
  "deepnote_execution_queue": [],
  "deepnote_notebook_id": "4c431ca1-93f3-4686-828e-3a4e72185a07",
  "kernelspec": {
   "display_name": "Python 3",
   "language": "python",
   "name": "python3"
  },
  "language_info": {
   "codemirror_mode": {
    "name": "ipython",
    "version": 3
   },
   "file_extension": ".py",
   "mimetype": "text/x-python",
   "name": "python",
   "nbconvert_exporter": "python",
   "pygments_lexer": "ipython3",
   "version": "3.8.3"
  }
 },
 "nbformat": 4,
 "nbformat_minor": 2
}
