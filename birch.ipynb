{
 "cells": [
  {
   "cell_type": "code",
   "execution_count": 1,
   "metadata": {},
   "outputs": [
    {
     "data": {
      "text/plain": [
       "(13687, 14)"
      ]
     },
     "execution_count": 1,
     "metadata": {},
     "output_type": "execute_result"
    }
   ],
   "source": [
    "import pandas as pd\n",
    "import matplotlib.pyplot as plt\n",
    "from sklearn.cluster import Birch\n",
    "from sklearn.preprocessing import StandardScaler\n",
    "from sklearn.metrics import silhouette_score, calinski_harabasz_score, davies_bouldin_score\n",
    "from sklearn.model_selection import train_test_split\n",
    "from collections import defaultdict\n",
    "\n",
    "data = pd.read_csv('spotify_data/processed_data.csv')\n",
    "\n",
    "train = data.drop(['genres', 'name'], axis=1)\n",
    "\n",
    "genres = data['genres']\n",
    "\n",
    "X_train, X_test = train_test_split(train, test_size=0.9) \n",
    "X_train.shape"
   ]
  },
  {
   "cell_type": "code",
   "execution_count": 2,
   "metadata": {},
   "outputs": [
    {
     "name": "stdout",
     "output_type": "stream",
     "text": [
      "5: 0.1418478962010837, 1619.0028837085479, 1.9902044013668991\n",
      "6: 0.10049887061770037, 1463.1383116650775, 2.075593822092656\n",
      "7: 0.10324755884170951, 1353.0408634899204, 1.9479874619625168\n",
      "8: 0.10430770404875869, 1259.9559386755254, 1.8706112872038418\n",
      "9: 0.09230370164514833, 1191.55491234242, 2.1136308597518276\n",
      "10: 0.08098263389970663, 1138.6755539545911, 2.1251389009553074\n",
      "11: 0.08264000856445398, 1093.4814959974162, 2.060147891844163\n",
      "12: 0.08933625480680589, 1056.9727272854836, 1.979534993018066\n",
      "13: 0.07897619781745314, 1021.4493080361062, 1.9397244643267741\n",
      "14: 0.07913725706297994, 983.1035164523737, 1.9373817590160303\n",
      "15: 0.07327531541211081, 944.0066506661777, 2.02604867562163\n",
      "16: 0.07122725413136084, 912.8413577392987, 2.0369850379465104\n",
      "17: 0.06873471768837408, 880.0755649491969, 1.9818788011659738\n",
      "18: 0.06907393033778625, 850.6381600202553, 2.0256239064269557\n",
      "19: 0.07051121531449032, 824.6831194272764, 2.0332641020676117\n"
     ]
    }
   ],
   "source": [
    "scaler = StandardScaler()\n",
    "scaler.fit(train)\n",
    "train_scale = scaler.transform(X_train)\n",
    "\n",
    "s_scores = []\n",
    "ch_scores = []\n",
    "db_scores = []\n",
    "\n",
    "for i in range(5, 20):\n",
    "    model = Birch(n_clusters=i)\n",
    "    y_pred = model.fit_predict(train_scale)\n",
    "    s_scores.append(silhouette_score(train_scale, y_pred))\n",
    "    ch_scores.append(calinski_harabasz_score(train_scale, y_pred))\n",
    "    db_scores.append(davies_bouldin_score(train_scale, y_pred))\n",
    "    print(f'{i}: {s_scores[-1]}, {ch_scores[-1]}, {db_scores[-1]}')"
   ]
  },
  {
   "cell_type": "code",
   "execution_count": 4,
   "metadata": {},
   "outputs": [
    {
     "name": "stdout",
     "output_type": "stream",
     "text": [
      "Cluster 0 Top Features:\n",
      "\tduration_ms\n",
      "\tliveness\n",
      "\tkey\n",
      "\tdanceability\n",
      "\tacousticness\n",
      "Cluster 1 Top Features:\n",
      "\tliveness\n",
      "\tspeechiness\n",
      "\ttempo\n",
      "\tmode\n",
      "\tacousticness\n",
      "Cluster 2 Top Features:\n",
      "\tliveness\n",
      "\tenergy\n",
      "\tkey\n",
      "\tacousticness\n",
      "\tduration_ms\n",
      "Cluster 3 Top Features:\n",
      "\tliveness\n",
      "\tduration_ms\n",
      "\tenergy\n",
      "\tspeechiness\n",
      "\tmode\n",
      "Cluster 4 Top Features:\n",
      "\texplicit\n",
      "\tliveness\n",
      "\tvalence\n",
      "\tenergy\n",
      "\tspeechiness\n",
      "Cluster 5 Top Features:\n",
      "\tliveness\n",
      "\tduration_ms\n",
      "\tinstrumentalness\n",
      "\tenergy\n",
      "\tacousticness\n"
     ]
    }
   ],
   "source": [
    "import numpy as np\n",
    "\n",
    "model = Birch(n_clusters=6)\n",
    "model.fit_predict(train_scale)\n",
    "\n",
    "x_avg = train_scale.mean(axis=0)\n",
    "dists = np.absolute(x_avg - model.subcluster_centers_)\n",
    "indices = np.argsort(dists, axis=1)[:,-5:]\n",
    "\n",
    "features = train.columns\n",
    "\n",
    "for cluster in range(6):\n",
    "    print(f'Cluster {cluster} Top Features:')\n",
    "    for i in range(4, -1, -1):\n",
    "        print(f'\\t{features[indices[cluster, i]]}')"
   ]
  },
  {
   "cell_type": "code",
   "execution_count": null,
   "metadata": {},
   "outputs": [],
   "source": []
  }
 ],
 "metadata": {
  "kernelspec": {
   "display_name": "Python 3",
   "language": "python",
   "name": "python3"
  },
  "language_info": {
   "codemirror_mode": {
    "name": "ipython",
    "version": 3
   },
   "file_extension": ".py",
   "mimetype": "text/x-python",
   "name": "python",
   "nbconvert_exporter": "python",
   "pygments_lexer": "ipython3",
   "version": "3.8.3"
  }
 },
 "nbformat": 4,
 "nbformat_minor": 4
}
