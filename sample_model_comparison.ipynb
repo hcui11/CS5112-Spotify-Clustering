{
 "cells": [
  {
   "cell_type": "code",
   "execution_count": 1,
   "metadata": {},
   "outputs": [],
   "source": [
    "import pandas as pd\n",
    "import matplotlib.pyplot as plt\n",
    "from sklearn.cluster import DBSCAN, AffinityPropagation, AgglomerativeClustering, SpectralClustering\n",
    "from sklearn.mixture import GaussianMixture\n",
    "from sklearn.preprocessing import StandardScaler\n",
    "from sklearn.metrics import silhouette_score, calinski_harabasz_score, davies_bouldin_score\n",
    "from sklearn.model_selection import train_test_split\n",
    "from collections import Counter\n",
    "\n",
    "data = pd.read_csv('spotify_data/processed_data.csv')\n",
    "\n",
    "train = data.drop(['genres'], axis=1)\n",
    "\n",
    "genres = data['genres']\n",
    "\n",
    "X_train, X_test = train_test_split(train, test_size=0.9) \n",
    "\n",
    "scaler = StandardScaler()\n",
    "scaler.fit(train)\n",
    "train_scale = scaler.transform(X_train)"
   ]
  },
  {
   "cell_type": "code",
   "execution_count": 2,
   "metadata": {},
   "outputs": [],
   "source": [
    "models = ['DBSCAN', 'Affinity Propagation', 'Agglomerative Clustering', 'Spectral Clustering', 'Gaussian Mixtures']\n",
    "s_scores = []\n",
    "ch_scores = []\n",
    "db_scores = []"
   ]
  },
  {
   "cell_type": "markdown",
   "metadata": {},
   "source": [
    "# DBSCAN"
   ]
  },
  {
   "cell_type": "code",
   "execution_count": 3,
   "metadata": {},
   "outputs": [],
   "source": [
    "model = DBSCAN(eps=2, min_samples=100)\n",
    "y_pred = model.fit_predict(train_scale)\n",
    "predictions = model.fit_predict(train_scale)\n",
    "y_pred = predictions[predictions != -1]\n",
    "clustered = train_scale[predictions != -1]\n",
    "outliers = train_scale[predictions == -1]\n",
    "\n",
    "s_scores.append(silhouette_score(clustered, y_pred))\n",
    "ch_scores.append(calinski_harabasz_score(clustered, y_pred))\n",
    "db_scores.append(davies_bouldin_score(clustered, y_pred))"
   ]
  },
  {
   "cell_type": "markdown",
   "metadata": {},
   "source": [
    "# Affinity Propagation"
   ]
  },
  {
   "cell_type": "code",
   "execution_count": 4,
   "metadata": {},
   "outputs": [],
   "source": [
    "model = AffinityPropagation(random_state=0)\n",
    "y_pred = model.fit_predict(train_scale)\n",
    "s_scores.append(silhouette_score(train_scale, y_pred))\n",
    "ch_scores.append(calinski_harabasz_score(train_scale, y_pred))\n",
    "db_scores.append(davies_bouldin_score(train_scale, y_pred))"
   ]
  },
  {
   "cell_type": "markdown",
   "metadata": {},
   "source": [
    "# Agglomerative Clustering"
   ]
  },
  {
   "cell_type": "code",
   "execution_count": 5,
   "metadata": {},
   "outputs": [],
   "source": [
    "model = AgglomerativeClustering(n_clusters=8)\n",
    "y_pred = model.fit_predict(train_scale)\n",
    "s_scores.append(silhouette_score(train_scale, y_pred))\n",
    "ch_scores.append(calinski_harabasz_score(train_scale, y_pred))\n",
    "db_scores.append(davies_bouldin_score(train_scale, y_pred))"
   ]
  },
  {
   "cell_type": "markdown",
   "metadata": {},
   "source": [
    "# Spectral Clustering"
   ]
  },
  {
   "cell_type": "code",
   "execution_count": 6,
   "metadata": {},
   "outputs": [],
   "source": [
    "model = SpectralClustering(assign_labels='discretize', n_clusters=5, random_state=0)\n",
    "y_pred = model.fit_predict(train_scale)\n",
    "s_scores.append(silhouette_score(train_scale, y_pred))\n",
    "ch_scores.append(calinski_harabasz_score(train_scale, y_pred))\n",
    "db_scores.append(davies_bouldin_score(train_scale, y_pred))"
   ]
  },
  {
   "cell_type": "markdown",
   "metadata": {},
   "source": [
    "# Gaussian Mixtures"
   ]
  },
  {
   "cell_type": "code",
   "execution_count": 7,
   "metadata": {},
   "outputs": [],
   "source": [
    "model = GaussianMixture(n_components=6)\n",
    "y_pred = model.fit_predict(train_scale)\n",
    "s_scores.append(silhouette_score(train_scale, y_pred))\n",
    "ch_scores.append(calinski_harabasz_score(train_scale, y_pred))\n",
    "db_scores.append(davies_bouldin_score(train_scale, y_pred))"
   ]
  },
  {
   "cell_type": "markdown",
   "metadata": {},
   "source": [
    "# Comparison"
   ]
  },
  {
   "cell_type": "code",
   "execution_count": 8,
   "metadata": {},
   "outputs": [
    {
     "name": "stdout",
     "output_type": "stream",
     "text": [
      "DBSCAN\n",
      "\tSilhouette Score: 0.12590906376407113\n",
      "\tCalinski Harabasz Score: 1040.9092663869171\n",
      "\\Davies Bouldin Score: 2.3025179473815696\n",
      "Affinity Propagation\n",
      "\tSilhouette Score: 0.07795128370251218\n",
      "\tCalinski Harabasz Score: 124.84556454144625\n",
      "\\Davies Bouldin Score: 1.7973389930843504\n",
      "Agglomerative Clustering\n",
      "\tSilhouette Score: 0.09690110389277737\n",
      "\tCalinski Harabasz Score: 1289.6440492075956\n",
      "\\Davies Bouldin Score: 2.0791985338435968\n",
      "Spectral Clustering\n",
      "\tSilhouette Score: 0.24967018884226141\n",
      "\tCalinski Harabasz Score: 529.8777415270783\n",
      "\\Davies Bouldin Score: 1.1238161346574198\n",
      "Gaussian Mixtures\n",
      "\tSilhouette Score: 0.03635208848332539\n",
      "\tCalinski Harabasz Score: 818.9382314733672\n",
      "\\Davies Bouldin Score: 3.590119578058087\n"
     ]
    }
   ],
   "source": [
    "for i in range(len(models)):\n",
    "    print(models[i])\n",
    "    print(f'\\tSilhouette Score: {s_scores[i]}')\n",
    "    print(f'\\tCalinski Harabasz Score: {ch_scores[i]}')\n",
    "    print(f'\\Davies Bouldin Score: {db_scores[i]}')"
   ]
  }
 ],
 "metadata": {
  "kernelspec": {
   "display_name": "Python 3",
   "language": "python",
   "name": "python3"
  },
  "language_info": {
   "codemirror_mode": {
    "name": "ipython",
    "version": 3
   },
   "file_extension": ".py",
   "mimetype": "text/x-python",
   "name": "python",
   "nbconvert_exporter": "python",
   "pygments_lexer": "ipython3",
   "version": "3.8.3"
  }
 },
 "nbformat": 4,
 "nbformat_minor": 4
}
