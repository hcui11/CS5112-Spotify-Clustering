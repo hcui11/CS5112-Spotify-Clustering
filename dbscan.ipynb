{
 "cells": [
  {
   "cell_type": "code",
   "execution_count": 8,
   "metadata": {
    "scrolled": false
   },
   "outputs": [
    {
     "name": "stdout",
     "output_type": "stream",
     "text": [
      "1000: 339 genres\n",
      "['acoustic', 'adult', 'adult standards', 'album', 'album rock', 'alternative', 'alternative metal', 'alternative rock', 'american', 'americana', 'and', 'and holler', 'and roll', 'appalachian', 'appalachian folk', 'art', 'art pop', 'art rock', 'atl', 'atl hip', 'atl hip hop', 'australian', 'avant', 'avant garde', 'band', 'banda', 'baroque', 'baroque pop', 'beatlesque', 'bebop', 'big', 'big band', 'bluegrass', 'blues', 'blues rock', 'bolero', 'bollywood', 'bop', 'brill', 'brill building', 'brill building pop', 'british', 'british invasion', 'bubblegum', 'bubblegum pop', 'building', 'building pop', 'canadian', 'canadian pop', 'canadian rock', 'chicago', 'christian', 'classic', 'classic bollywood', 'classic country', 'classic country pop', 'classic rock', 'classic soul', 'classic soundtrack', 'classical', 'classical era', 'coast', 'coast hip', 'coast hip hop', 'comic', 'conscious', 'conscious hip', 'conscious hip hop', 'contemporary', 'contemporary country', 'contemporary post', 'contemporary post bop', 'cool', 'cool jazz', 'country', 'country pop', 'country road', 'country rock', 'cumbia', 'dance', 'dance pop', 'dance rock', 'deep', 'desi', 'dirty', 'dirty south', 'dirty south rap', 'disco', 'doo', 'doo wop', 'early', 'early modern', 'early modern classical', 'early music', 'early romantic', 'early romantic era', 'east', 'east coast', 'east coast hip', 'easy', 'easy listening', 'edm', 'electric', 'electric blues', 'electro', 'electropop', 'emo', 'en', 'en espanol', 'era', 'espanol', 'europop', 'experimental', 'filmi', 'folk', 'folk rock', 'free', 'free jazz', 'funk', 'funk rock', 'fusion', 'gangster', 'gangster rap', 'garage', 'garage rock', 'garde', 'german', 'ghazal', 'glam', 'glam metal', 'glam rock', 'gold', 'gospel', 'group', 'grunge', 'grupera', 'hard', 'hard bop', 'hard rock', 'hardcore', 'hardcore hip', 'hardcore hip hop', 'heartland', 'heartland rock', 'hip', 'hip hop', 'hip pop', 'holler', 'hollywood', 'hop', 'house', 'indian', 'indian folk', 'indie', 'indie folk', 'indie pop', 'indie rock', 'industrial', 'instrumental', 'invasion', 'italian', 'italian opera', 'jack', 'jack swing', 'jam', 'jam band', 'jazz', 'jazz blues', 'jazz funk', 'jazz fusion', 'jazz piano', 'jazz saxophone', 'jazz trumpet', 'late', 'late romantic', 'late romantic era', 'latin', 'latin jazz', 'latin pop', 'lilith', 'listening', 'lounge', 'melancholia', 'mellow', 'mellow gold', 'melodic', 'memphis', 'merseybeat', 'metal', 'metalcore', 'mexican', 'mexican pop', 'modern', 'modern bollywood', 'modern classical', 'modern country', 'modern country rock', 'modern rock', 'motown', 'music', 'nashville', 'nashville sound', 'neo', 'neo mellow', 'neo soul', 'neoclassicism', 'new', 'new americana', 'new jack', 'new jack swing', 'new orleans', 'new romantic', 'new wave', 'new wave pop', 'norteno', 'nova', 'nu', 'nu metal', 'old', 'old school', 'opera', 'orleans', 'outlaw', 'outlaw country', 'permanent', 'permanent wave', 'piano', 'piano rock', 'polish', 'polish classical', 'pop', 'pop punk', 'pop rap', 'pop rock', 'post', 'post bop', 'post disco', 'post grunge', 'post punk', 'post romantic', 'post romantic era', 'post teen', 'post teen pop', 'power', 'power pop', 'progressive', 'progressive rock', 'protopunk', 'psychedelic', 'psychedelic rock', 'punk', 'quiet', 'quiet storm', 'ranchera', 'rap', 'rap metal', 'rap rock', 'reggae', 'regional', 'regional mexican', 'revival', 'road', 'rock', 'rock and', 'rock and roll', 'rock en', 'rock en espanol', 'rockabilly', 'roll', 'romantic', 'romantic era', 'roots', 'roots rock', 'russian', 'salsa', 'saxophone', 'school', 'show', 'singer', 'singer songwriter', 'ska', 'skate', 'skate punk', 'soft', 'soft rock', 'song', 'songwriter', 'soul', 'soul jazz', 'sound', 'soundtrack', 'south', 'south rap', 'southern', 'southern hip', 'southern hip hop', 'southern rock', 'southern soul', 'standards', 'stomp', 'stomp and', 'stomp and holler', 'storm', 'stride', 'sufi', 'swing', 'symphonic', 'symphonic rock', 'synthpop', 'tango', 'teen', 'teen pop', 'texas', 'texas country', 'thrash', 'torch', 'torch song', 'traditional', 'traditional blues', 'traditional folk', 'trap', 'tropical', 'trumpet', 'tunes', 'uk', 'urban', 'urban contemporary', 'vintage', 'vintage tango', 'vocal', 'vocal jazz', 'wave', 'wave pop', 'west', 'west coast', 'wop', 'worship', 'yacht', 'yacht rock']\n",
      "1500: 240 genres\n",
      "['adult', 'adult standards', 'album', 'album rock', 'alternative', 'alternative metal', 'alternative rock', 'american', 'americana', 'and', 'and roll', 'art', 'art pop', 'art rock', 'band', 'banda', 'baroque', 'bebop', 'big', 'big band', 'bluegrass', 'blues', 'blues rock', 'bolero', 'bollywood', 'bop', 'brill', 'brill building', 'brill building pop', 'british', 'british invasion', 'bubblegum', 'bubblegum pop', 'building', 'building pop', 'canadian', 'chicago', 'christian', 'classic', 'classic bollywood', 'classic rock', 'classic soul', 'classical', 'classical era', 'coast', 'coast hip', 'coast hip hop', 'contemporary', 'contemporary country', 'contemporary post', 'contemporary post bop', 'cool', 'cool jazz', 'country', 'country road', 'country rock', 'cumbia', 'dance', 'dance pop', 'dance rock', 'deep', 'disco', 'early', 'early modern', 'early modern classical', 'early romantic', 'early romantic era', 'east', 'east coast', 'east coast hip', 'easy', 'easy listening', 'electric', 'electric blues', 'emo', 'era', 'experimental', 'filmi', 'folk', 'folk rock', 'funk', 'fusion', 'gangster', 'gangster rap', 'german', 'glam', 'glam rock', 'gold', 'grunge', 'grupera', 'hard', 'hard bop', 'hard rock', 'hardcore', 'hardcore hip', 'hardcore hip hop', 'heartland', 'heartland rock', 'hip', 'hip hop', 'hip pop', 'hop', 'house', 'indian', 'indian folk', 'indie', 'indie pop', 'indie rock', 'industrial', 'invasion', 'italian', 'jack', 'jack swing', 'jazz', 'jazz blues', 'jazz funk', 'jazz fusion', 'jazz piano', 'jazz trumpet', 'late', 'late romantic', 'late romantic era', 'latin', 'latin pop', 'listening', 'lounge', 'mellow', 'mellow gold', 'melodic', 'metal', 'mexican', 'modern', 'modern classical', 'modern rock', 'motown', 'music', 'neo', 'neo mellow', 'neo soul', 'new', 'new jack', 'new jack swing', 'new romantic', 'new wave', 'new wave pop', 'norteno', 'nu', 'nu metal', 'old', 'opera', 'outlaw', 'outlaw country', 'permanent', 'permanent wave', 'piano', 'pop', 'pop punk', 'pop rap', 'pop rock', 'post', 'post bop', 'post grunge', 'post punk', 'post romantic', 'post romantic era', 'post teen', 'post teen pop', 'progressive', 'progressive rock', 'psychedelic', 'psychedelic rock', 'punk', 'quiet', 'quiet storm', 'ranchera', 'rap', 'reggae', 'regional', 'regional mexican', 'road', 'rock', 'rock and', 'rock and roll', 'rockabilly', 'roll', 'romantic', 'romantic era', 'roots', 'roots rock', 'russian', 'salsa', 'saxophone', 'singer', 'singer songwriter', 'ska', 'soft', 'soft rock', 'song', 'songwriter', 'soul', 'soul jazz', 'sound', 'soundtrack', 'southern', 'southern hip', 'southern hip hop', 'southern soul', 'standards', 'storm', 'stride', 'sufi', 'swing', 'symphonic', 'symphonic rock', 'tango', 'teen', 'teen pop', 'texas', 'thrash', 'torch', 'torch song', 'traditional', 'traditional blues', 'traditional folk', 'trap', 'tropical', 'trumpet', 'tunes', 'uk', 'urban', 'urban contemporary', 'vintage', 'vintage tango', 'vocal', 'vocal jazz', 'wave', 'wave pop', 'worship', 'yacht', 'yacht rock']\n",
      "2000: 197 genres\n",
      "['adult', 'adult standards', 'album', 'album rock', 'alternative', 'alternative metal', 'alternative rock', 'american', 'and', 'and roll', 'art', 'art rock', 'band', 'banda', 'baroque', 'bebop', 'big', 'big band', 'blues', 'blues rock', 'bollywood', 'bop', 'brill', 'brill building', 'brill building pop', 'british', 'british invasion', 'bubblegum', 'bubblegum pop', 'building', 'building pop', 'canadian', 'christian', 'classic', 'classic bollywood', 'classic rock', 'classic soul', 'classical', 'classical era', 'coast', 'contemporary', 'contemporary country', 'contemporary post', 'contemporary post bop', 'cool', 'cool jazz', 'country', 'country road', 'country rock', 'dance', 'dance pop', 'dance rock', 'disco', 'early', 'early modern', 'early modern classical', 'early romantic', 'early romantic era', 'easy', 'easy listening', 'electric', 'era', 'filmi', 'folk', 'folk rock', 'funk', 'fusion', 'gangster', 'gangster rap', 'german', 'glam', 'glam rock', 'gold', 'grunge', 'grupera', 'hard', 'hard bop', 'hard rock', 'hardcore', 'heartland', 'heartland rock', 'hip', 'hip hop', 'hop', 'house', 'indian', 'indie', 'indie pop', 'indie rock', 'invasion', 'italian', 'jazz', 'jazz blues', 'jazz funk', 'jazz fusion', 'late', 'late romantic', 'late romantic era', 'latin', 'latin pop', 'listening', 'lounge', 'mellow', 'mellow gold', 'metal', 'mexican', 'modern', 'modern classical', 'modern rock', 'motown', 'music', 'neo', 'neo mellow', 'new', 'new romantic', 'new wave', 'new wave pop', 'norteno', 'nu', 'nu metal', 'old', 'opera', 'outlaw', 'outlaw country', 'permanent', 'permanent wave', 'piano', 'pop', 'pop punk', 'pop rap', 'pop rock', 'post', 'post bop', 'post grunge', 'post punk', 'post romantic', 'post romantic era', 'post teen', 'post teen pop', 'progressive', 'psychedelic', 'psychedelic rock', 'punk', 'quiet', 'quiet storm', 'ranchera', 'rap', 'reggae', 'regional', 'regional mexican', 'road', 'rock', 'rock and', 'rock and roll', 'rockabilly', 'roll', 'romantic', 'romantic era', 'roots', 'roots rock', 'salsa', 'singer', 'singer songwriter', 'soft', 'soft rock', 'song', 'songwriter', 'soul', 'soul jazz', 'soundtrack', 'southern', 'southern hip', 'southern hip hop', 'southern soul', 'standards', 'storm', 'stride', 'swing', 'symphonic', 'symphonic rock', 'tango', 'teen', 'teen pop', 'torch', 'torch song', 'traditional', 'traditional folk', 'trap', 'tropical', 'urban', 'urban contemporary', 'vintage', 'vintage tango', 'vocal', 'vocal jazz', 'wave', 'wave pop']\n"
     ]
    },
    {
     "name": "stdout",
     "output_type": "stream",
     "text": [
      "2500: 162 genres\n",
      "['adult', 'adult standards', 'album', 'album rock', 'alternative', 'alternative metal', 'alternative rock', 'and', 'and roll', 'art', 'art rock', 'band', 'banda', 'baroque', 'bebop', 'big', 'big band', 'blues', 'blues rock', 'bollywood', 'bop', 'brill', 'brill building', 'brill building pop', 'british', 'building', 'building pop', 'canadian', 'christian', 'classic', 'classic rock', 'classic soul', 'classical', 'coast', 'contemporary', 'contemporary country', 'contemporary post', 'contemporary post bop', 'cool', 'cool jazz', 'country', 'country road', 'country rock', 'dance', 'dance pop', 'dance rock', 'disco', 'early', 'early romantic', 'early romantic era', 'easy', 'easy listening', 'era', 'folk', 'folk rock', 'funk', 'fusion', 'gangster', 'gangster rap', 'glam', 'gold', 'grunge', 'grupera', 'hard', 'hard bop', 'hard rock', 'hardcore', 'hip', 'hip hop', 'hop', 'house', 'indie', 'indie pop', 'italian', 'jazz', 'jazz fusion', 'late', 'late romantic', 'late romantic era', 'latin', 'listening', 'lounge', 'mellow', 'mellow gold', 'metal', 'mexican', 'modern', 'modern classical', 'modern rock', 'motown', 'music', 'neo', 'new', 'new romantic', 'new wave', 'new wave pop', 'norteno', 'nu', 'nu metal', 'permanent', 'permanent wave', 'piano', 'pop', 'pop rap', 'pop rock', 'post', 'post bop', 'post grunge', 'post punk', 'post teen', 'post teen pop', 'progressive', 'psychedelic', 'psychedelic rock', 'punk', 'quiet', 'quiet storm', 'ranchera', 'rap', 'reggae', 'regional', 'regional mexican', 'road', 'rock', 'rock and', 'rock and roll', 'rockabilly', 'roll', 'romantic', 'romantic era', 'roots', 'roots rock', 'singer', 'singer songwriter', 'soft', 'soft rock', 'songwriter', 'soul', 'soul jazz', 'soundtrack', 'southern', 'southern hip', 'southern hip hop', 'standards', 'storm', 'stride', 'swing', 'tango', 'teen', 'teen pop', 'traditional', 'traditional folk', 'trap', 'tropical', 'urban', 'urban contemporary', 'vintage', 'vintage tango', 'vocal', 'vocal jazz', 'wave', 'wave pop']\n",
      "3000: 137 genres\n",
      "['adult', 'adult standards', 'album', 'album rock', 'alternative', 'alternative metal', 'alternative rock', 'and', 'and roll', 'art', 'art rock', 'band', 'banda', 'baroque', 'bebop', 'big', 'big band', 'blues', 'blues rock', 'bollywood', 'bop', 'brill', 'brill building', 'brill building pop', 'british', 'building', 'building pop', 'canadian', 'classic', 'classic rock', 'classic soul', 'classical', 'contemporary', 'contemporary post', 'contemporary post bop', 'cool', 'cool jazz', 'country', 'country road', 'country rock', 'dance', 'dance pop', 'dance rock', 'disco', 'early', 'easy', 'easy listening', 'era', 'folk', 'folk rock', 'funk', 'fusion', 'gangster', 'gangster rap', 'glam', 'gold', 'grunge', 'grupera', 'hard', 'hard bop', 'hard rock', 'hardcore', 'hip', 'hip hop', 'hop', 'indie', 'jazz', 'jazz fusion', 'latin', 'listening', 'lounge', 'mellow', 'mellow gold', 'metal', 'mexican', 'modern', 'modern classical', 'modern rock', 'motown', 'music', 'neo', 'new', 'new wave', 'new wave pop', 'nu', 'nu metal', 'permanent', 'permanent wave', 'piano', 'pop', 'pop rap', 'pop rock', 'post', 'post bop', 'post grunge', 'progressive', 'psychedelic', 'psychedelic rock', 'punk', 'quiet', 'quiet storm', 'rap', 'regional', 'regional mexican', 'road', 'rock', 'rock and', 'rock and roll', 'roll', 'romantic', 'romantic era', 'roots', 'roots rock', 'singer', 'singer songwriter', 'soft', 'soft rock', 'songwriter', 'soul', 'soul jazz', 'southern', 'southern hip', 'southern hip hop', 'standards', 'storm', 'swing', 'tango', 'traditional', 'traditional folk', 'trap', 'urban', 'urban contemporary', 'vintage', 'vocal', 'vocal jazz', 'wave', 'wave pop']\n",
      "3500: 122 genres\n",
      "['adult', 'adult standards', 'album', 'album rock', 'alternative', 'alternative metal', 'alternative rock', 'and', 'and roll', 'art', 'art rock', 'band', 'bebop', 'big', 'blues', 'blues rock', 'bop', 'brill', 'brill building', 'brill building pop', 'british', 'building', 'building pop', 'canadian', 'classic', 'classic rock', 'classic soul', 'classical', 'contemporary', 'contemporary post', 'contemporary post bop', 'cool', 'cool jazz', 'country', 'country rock', 'dance', 'dance pop', 'dance rock', 'disco', 'early', 'easy', 'easy listening', 'era', 'folk', 'folk rock', 'funk', 'fusion', 'glam', 'gold', 'grunge', 'grupera', 'hard', 'hard bop', 'hard rock', 'hardcore', 'hip', 'hip hop', 'hop', 'indie', 'jazz', 'latin', 'listening', 'lounge', 'mellow', 'mellow gold', 'metal', 'mexican', 'modern', 'modern classical', 'modern rock', 'motown', 'neo', 'new', 'new wave', 'new wave pop', 'nu', 'nu metal', 'permanent', 'permanent wave', 'pop', 'pop rap', 'pop rock', 'post', 'post bop', 'post grunge', 'psychedelic', 'psychedelic rock', 'punk', 'quiet', 'quiet storm', 'rap', 'regional', 'regional mexican', 'rock', 'rock and', 'rock and roll', 'roll', 'romantic', 'romantic era', 'roots', 'roots rock', 'singer', 'singer songwriter', 'soft', 'soft rock', 'songwriter', 'soul', 'southern', 'standards', 'storm', 'swing', 'tango', 'traditional', 'traditional folk', 'trap', 'urban', 'urban contemporary', 'vintage', 'vocal', 'vocal jazz', 'wave', 'wave pop']\n",
      "4000: 111 genres\n",
      "['adult', 'adult standards', 'album', 'album rock', 'alternative', 'alternative metal', 'alternative rock', 'and', 'and roll', 'art', 'art rock', 'band', 'bebop', 'blues', 'blues rock', 'bop', 'brill', 'brill building', 'brill building pop', 'british', 'building', 'building pop', 'canadian', 'classic', 'classic rock', 'classical', 'contemporary', 'contemporary post', 'contemporary post bop', 'cool', 'cool jazz', 'country', 'country rock', 'dance', 'dance pop', 'dance rock', 'disco', 'early', 'easy', 'easy listening', 'era', 'folk', 'folk rock', 'funk', 'fusion', 'gold', 'grunge', 'grupera', 'hard', 'hard bop', 'hard rock', 'hardcore', 'hip', 'hip hop', 'hop', 'indie', 'jazz', 'latin', 'listening', 'lounge', 'mellow', 'mellow gold', 'metal', 'mexican', 'modern', 'modern rock', 'motown', 'neo', 'new', 'new wave', 'nu', 'permanent', 'permanent wave', 'pop', 'pop rap', 'pop rock', 'post', 'post bop', 'post grunge', 'psychedelic', 'psychedelic rock', 'punk', 'quiet', 'quiet storm', 'rap', 'rock', 'rock and', 'rock and roll', 'roll', 'romantic', 'romantic era', 'roots', 'roots rock', 'singer', 'singer songwriter', 'soft', 'soft rock', 'songwriter', 'soul', 'southern', 'standards', 'storm', 'swing', 'tango', 'traditional', 'traditional folk', 'trap', 'vintage', 'vocal', 'vocal jazz', 'wave']\n",
      "4500: 96 genres\n",
      "['adult', 'adult standards', 'album', 'album rock', 'alternative', 'alternative metal', 'alternative rock', 'and', 'art', 'art rock', 'band', 'bebop', 'blues', 'blues rock', 'bop', 'brill', 'brill building', 'brill building pop', 'building', 'building pop', 'canadian', 'classic', 'classic rock', 'classical', 'contemporary', 'contemporary post', 'contemporary post bop', 'cool', 'cool jazz', 'country', 'country rock', 'dance', 'dance pop', 'dance rock', 'disco', 'early', 'era', 'folk', 'folk rock', 'funk', 'gold', 'grunge', 'hard', 'hard rock', 'hip', 'hip hop', 'hop', 'indie', 'jazz', 'latin', 'lounge', 'mellow', 'mellow gold', 'metal', 'mexican', 'modern', 'motown', 'neo', 'new', 'new wave', 'permanent', 'permanent wave', 'pop', 'pop rap', 'pop rock', 'post', 'post bop', 'post grunge', 'psychedelic', 'psychedelic rock', 'punk', 'quiet', 'quiet storm', 'rap', 'rock', 'romantic', 'romantic era', 'roots', 'roots rock', 'singer', 'singer songwriter', 'soft', 'soft rock', 'songwriter', 'soul', 'southern', 'standards', 'storm', 'swing', 'tango', 'traditional', 'traditional folk', 'vintage', 'vocal', 'vocal jazz', 'wave']\n",
      "5000: 84 genres\n",
      "['adult', 'adult standards', 'album', 'album rock', 'alternative', 'alternative rock', 'and', 'art', 'art rock', 'band', 'bebop', 'blues', 'blues rock', 'bop', 'brill', 'brill building', 'brill building pop', 'building', 'building pop', 'classic', 'classic rock', 'classical', 'contemporary', 'cool', 'cool jazz', 'country', 'country rock', 'dance', 'dance pop', 'dance rock', 'early', 'era', 'folk', 'folk rock', 'funk', 'gold', 'grunge', 'hard', 'hard rock', 'hip', 'hip hop', 'hop', 'indie', 'jazz', 'latin', 'lounge', 'mellow', 'mellow gold', 'metal', 'mexican', 'modern', 'motown', 'new', 'new wave', 'permanent', 'permanent wave', 'pop', 'pop rap', 'pop rock', 'post', 'psychedelic', 'psychedelic rock', 'punk', 'rap', 'rock', 'romantic', 'romantic era', 'roots', 'roots rock', 'singer', 'singer songwriter', 'soft', 'soft rock', 'songwriter', 'soul', 'southern', 'standards', 'swing', 'tango', 'traditional', 'vintage', 'vocal', 'vocal jazz', 'wave']\n"
     ]
    },
    {
     "name": "stdout",
     "output_type": "stream",
     "text": [
      "5500: 81 genres\n",
      "['adult', 'adult standards', 'album', 'album rock', 'alternative', 'alternative rock', 'and', 'art', 'art rock', 'band', 'bebop', 'blues', 'blues rock', 'bop', 'brill', 'brill building', 'brill building pop', 'building', 'building pop', 'classic', 'classic rock', 'classical', 'contemporary', 'cool', 'cool jazz', 'country', 'country rock', 'dance', 'dance pop', 'dance rock', 'early', 'era', 'folk', 'folk rock', 'funk', 'gold', 'grunge', 'hard', 'hard rock', 'hip', 'hip hop', 'hop', 'indie', 'jazz', 'latin', 'lounge', 'mellow', 'mellow gold', 'metal', 'modern', 'new', 'new wave', 'permanent', 'permanent wave', 'pop', 'pop rap', 'pop rock', 'post', 'psychedelic', 'psychedelic rock', 'punk', 'rap', 'rock', 'romantic', 'romantic era', 'roots', 'roots rock', 'singer', 'singer songwriter', 'soft', 'soft rock', 'songwriter', 'soul', 'southern', 'standards', 'swing', 'tango', 'traditional', 'vocal', 'vocal jazz', 'wave']\n",
      "6000: 69 genres\n",
      "['adult', 'adult standards', 'album', 'album rock', 'alternative', 'alternative rock', 'and', 'art', 'art rock', 'bebop', 'blues', 'blues rock', 'bop', 'classic', 'classic rock', 'classical', 'contemporary', 'cool', 'cool jazz', 'country', 'country rock', 'dance', 'dance pop', 'early', 'era', 'folk', 'folk rock', 'funk', 'gold', 'hard', 'hard rock', 'hip', 'hip hop', 'hop', 'indie', 'jazz', 'latin', 'lounge', 'mellow', 'mellow gold', 'metal', 'modern', 'new', 'new wave', 'pop', 'pop rap', 'post', 'psychedelic', 'psychedelic rock', 'punk', 'rap', 'rock', 'romantic', 'romantic era', 'roots', 'roots rock', 'singer', 'singer songwriter', 'soft', 'soft rock', 'songwriter', 'soul', 'southern', 'standards', 'swing', 'traditional', 'vocal', 'vocal jazz', 'wave']\n",
      "6500: 59 genres\n",
      "['adult', 'adult standards', 'album', 'album rock', 'alternative', 'alternative rock', 'art', 'art rock', 'blues', 'bop', 'classic', 'classic rock', 'classical', 'contemporary', 'country', 'country rock', 'dance', 'dance pop', 'early', 'era', 'folk', 'folk rock', 'funk', 'gold', 'hard', 'hard rock', 'hip', 'hip hop', 'hop', 'indie', 'jazz', 'latin', 'lounge', 'mellow', 'mellow gold', 'metal', 'modern', 'new', 'new wave', 'pop', 'post', 'psychedelic', 'punk', 'rap', 'rock', 'romantic', 'romantic era', 'roots', 'roots rock', 'soft', 'soft rock', 'soul', 'southern', 'standards', 'swing', 'traditional', 'vocal', 'vocal jazz', 'wave']\n"
     ]
    }
   ],
   "source": [
    "import pandas as pd\n",
    "from ast import literal_eval\n",
    "from sklearn.cluster import DBSCAN\n",
    "from sklearn.feature_extraction.text import CountVectorizer\n",
    "\n",
    "data = pd.read_csv('spotify_data/processed_data.csv')\n",
    "\n",
    "train = data.drop(['genres'], axis=1)\n",
    "\n",
    "y = data['genres']\n",
    "\n",
    "genre_corpus = []\n",
    "\n",
    "for genres in y:\n",
    "    for genre in literal_eval(genres):\n",
    "        genre_corpus.append(genre)\n",
    "\n",
    "for i in range(1000, 7000, 500):\n",
    "    vectorizer = CountVectorizer(min_df=i, ngram_range=(1,3))\n",
    "    vectorizer.fit_transform(genre_corpus)\n",
    "    print(f'{i}: {len(vectorizer.get_feature_names())} genres')\n",
    "    print(vectorizer.get_feature_names())\n",
    "    \n",
    "    \n",
    "# eps = 100\n",
    "# min_samples = 100 \n",
    "\n",
    "# dbscan = DBSCAN(eps=eps, min_samples=min_samples)\n",
    "# y_pred = dbscan.fit_predict(train)\n",
    "\n",
    "# print(max(y_pred)"
   ]
  },
  {
   "cell_type": "code",
   "execution_count": null,
   "metadata": {},
   "outputs": [],
   "source": []
  }
 ],
 "metadata": {
  "kernelspec": {
   "display_name": "Python 3",
   "language": "python",
   "name": "python3"
  },
  "language_info": {
   "codemirror_mode": {
    "name": "ipython",
    "version": 3
   },
   "file_extension": ".py",
   "mimetype": "text/x-python",
   "name": "python",
   "nbconvert_exporter": "python",
   "pygments_lexer": "ipython3",
   "version": "3.8.3"
  }
 },
 "nbformat": 4,
 "nbformat_minor": 4
}
